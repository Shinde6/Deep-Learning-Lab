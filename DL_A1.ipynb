{
  "nbformat": 4,
  "nbformat_minor": 0,
  "metadata": {
    "colab": {
      "name": "DL_Assignment_1.ipynb",
      "provenance": [],
      "collapsed_sections": []
    },
    "kernelspec": {
      "name": "python3",
      "display_name": "Python 3"
    },
    "language_info": {
      "name": "python"
    }
  },
  "cells": [
    {
      "cell_type": "code",
      "execution_count": null,
      "metadata": {
        "id": "HOllw00Jdy-E"
      },
      "outputs": [],
      "source": [
        "import pandas as pd\n",
        "import numpy as np\n",
        "import seaborn as sns\n",
        "#import plotly.express as px\n",
        "#from matplotlib import pyplot as plt\n",
        "from sklearn.model_selection import train_test_split\n",
        "from sklearn.metrics import accuracy_score"
      ]
    },
    {
      "cell_type": "code",
      "source": [
        "from google.colab import drive\n",
        "drive.mount('/gdrive')\n",
        "%cd /gdrive"
      ],
      "metadata": {
        "colab": {
          "base_uri": "https://localhost:8080/"
        },
        "id": "NOgBop4bjWui",
        "outputId": "2a70f17c-3273-479a-f05b-5f01b35cfdee"
      },
      "execution_count": null,
      "outputs": [
        {
          "output_type": "stream",
          "name": "stdout",
          "text": [
            "Drive already mounted at /gdrive; to attempt to forcibly remount, call drive.mount(\"/gdrive\", force_remount=True).\n",
            "/gdrive\n"
          ]
        }
      ]
    },
    {
      "cell_type": "code",
      "source": [
        "nb = pd.read_csv('/gdrive/MyDrive/Colab Notebooks/nba.csv')\n",
        "df=nb.copy()\n",
        "df.head()"
      ],
      "metadata": {
        "colab": {
          "base_uri": "https://localhost:8080/",
          "height": 236
        },
        "id": "r0gtNF7RibaH",
        "outputId": "4d19b91b-a599-4899-eb70-abc2d7f9c42e"
      },
      "execution_count": null,
      "outputs": [
        {
          "output_type": "execute_result",
          "data": {
            "text/plain": [
              "              Name  GP   MIN  PTS  FGM  FGA   FG%  3P Made  3PA   3P%  ...  \\\n",
              "0   Brandon Ingram  36  27.4  7.4  2.6  7.6  34.7      0.5  2.1  25.0  ...   \n",
              "1  Andrew Harrison  35  26.9  7.2  2.0  6.7  29.6      0.7  2.8  23.5  ...   \n",
              "2   JaKarr Sampson  74  15.3  5.2  2.0  4.7  42.2      0.4  1.7  24.4  ...   \n",
              "3      Malik Sealy  58  11.6  5.7  2.3  5.5  42.6      0.1  0.5  22.6  ...   \n",
              "4      Matt Geiger  48  11.5  4.5  1.6  3.0  52.4      0.0  0.1   0.0  ...   \n",
              "\n",
              "   FTA   FT%  OREB  DREB  REB  AST  STL  BLK  TOV  TARGET_5Yrs  \n",
              "0  2.3  69.9   0.7   3.4  4.1  1.9  0.4  0.4  1.3          0.0  \n",
              "1  3.4  76.5   0.5   2.0  2.4  3.7  1.1  0.5  1.6          0.0  \n",
              "2  1.3  67.0   0.5   1.7  2.2  1.0  0.5  0.3  1.0          0.0  \n",
              "3  1.3  68.9   1.0   0.9  1.9  0.8  0.6  0.1  1.0          1.0  \n",
              "4  1.9  67.4   1.0   1.5  2.5  0.3  0.3  0.4  0.8          1.0  \n",
              "\n",
              "[5 rows x 21 columns]"
            ],
            "text/html": [
              "\n",
              "  <div id=\"df-54bca633-c7de-4997-a9e6-b9770092c65c\">\n",
              "    <div class=\"colab-df-container\">\n",
              "      <div>\n",
              "<style scoped>\n",
              "    .dataframe tbody tr th:only-of-type {\n",
              "        vertical-align: middle;\n",
              "    }\n",
              "\n",
              "    .dataframe tbody tr th {\n",
              "        vertical-align: top;\n",
              "    }\n",
              "\n",
              "    .dataframe thead th {\n",
              "        text-align: right;\n",
              "    }\n",
              "</style>\n",
              "<table border=\"1\" class=\"dataframe\">\n",
              "  <thead>\n",
              "    <tr style=\"text-align: right;\">\n",
              "      <th></th>\n",
              "      <th>Name</th>\n",
              "      <th>GP</th>\n",
              "      <th>MIN</th>\n",
              "      <th>PTS</th>\n",
              "      <th>FGM</th>\n",
              "      <th>FGA</th>\n",
              "      <th>FG%</th>\n",
              "      <th>3P Made</th>\n",
              "      <th>3PA</th>\n",
              "      <th>3P%</th>\n",
              "      <th>...</th>\n",
              "      <th>FTA</th>\n",
              "      <th>FT%</th>\n",
              "      <th>OREB</th>\n",
              "      <th>DREB</th>\n",
              "      <th>REB</th>\n",
              "      <th>AST</th>\n",
              "      <th>STL</th>\n",
              "      <th>BLK</th>\n",
              "      <th>TOV</th>\n",
              "      <th>TARGET_5Yrs</th>\n",
              "    </tr>\n",
              "  </thead>\n",
              "  <tbody>\n",
              "    <tr>\n",
              "      <th>0</th>\n",
              "      <td>Brandon Ingram</td>\n",
              "      <td>36</td>\n",
              "      <td>27.4</td>\n",
              "      <td>7.4</td>\n",
              "      <td>2.6</td>\n",
              "      <td>7.6</td>\n",
              "      <td>34.7</td>\n",
              "      <td>0.5</td>\n",
              "      <td>2.1</td>\n",
              "      <td>25.0</td>\n",
              "      <td>...</td>\n",
              "      <td>2.3</td>\n",
              "      <td>69.9</td>\n",
              "      <td>0.7</td>\n",
              "      <td>3.4</td>\n",
              "      <td>4.1</td>\n",
              "      <td>1.9</td>\n",
              "      <td>0.4</td>\n",
              "      <td>0.4</td>\n",
              "      <td>1.3</td>\n",
              "      <td>0.0</td>\n",
              "    </tr>\n",
              "    <tr>\n",
              "      <th>1</th>\n",
              "      <td>Andrew Harrison</td>\n",
              "      <td>35</td>\n",
              "      <td>26.9</td>\n",
              "      <td>7.2</td>\n",
              "      <td>2.0</td>\n",
              "      <td>6.7</td>\n",
              "      <td>29.6</td>\n",
              "      <td>0.7</td>\n",
              "      <td>2.8</td>\n",
              "      <td>23.5</td>\n",
              "      <td>...</td>\n",
              "      <td>3.4</td>\n",
              "      <td>76.5</td>\n",
              "      <td>0.5</td>\n",
              "      <td>2.0</td>\n",
              "      <td>2.4</td>\n",
              "      <td>3.7</td>\n",
              "      <td>1.1</td>\n",
              "      <td>0.5</td>\n",
              "      <td>1.6</td>\n",
              "      <td>0.0</td>\n",
              "    </tr>\n",
              "    <tr>\n",
              "      <th>2</th>\n",
              "      <td>JaKarr Sampson</td>\n",
              "      <td>74</td>\n",
              "      <td>15.3</td>\n",
              "      <td>5.2</td>\n",
              "      <td>2.0</td>\n",
              "      <td>4.7</td>\n",
              "      <td>42.2</td>\n",
              "      <td>0.4</td>\n",
              "      <td>1.7</td>\n",
              "      <td>24.4</td>\n",
              "      <td>...</td>\n",
              "      <td>1.3</td>\n",
              "      <td>67.0</td>\n",
              "      <td>0.5</td>\n",
              "      <td>1.7</td>\n",
              "      <td>2.2</td>\n",
              "      <td>1.0</td>\n",
              "      <td>0.5</td>\n",
              "      <td>0.3</td>\n",
              "      <td>1.0</td>\n",
              "      <td>0.0</td>\n",
              "    </tr>\n",
              "    <tr>\n",
              "      <th>3</th>\n",
              "      <td>Malik Sealy</td>\n",
              "      <td>58</td>\n",
              "      <td>11.6</td>\n",
              "      <td>5.7</td>\n",
              "      <td>2.3</td>\n",
              "      <td>5.5</td>\n",
              "      <td>42.6</td>\n",
              "      <td>0.1</td>\n",
              "      <td>0.5</td>\n",
              "      <td>22.6</td>\n",
              "      <td>...</td>\n",
              "      <td>1.3</td>\n",
              "      <td>68.9</td>\n",
              "      <td>1.0</td>\n",
              "      <td>0.9</td>\n",
              "      <td>1.9</td>\n",
              "      <td>0.8</td>\n",
              "      <td>0.6</td>\n",
              "      <td>0.1</td>\n",
              "      <td>1.0</td>\n",
              "      <td>1.0</td>\n",
              "    </tr>\n",
              "    <tr>\n",
              "      <th>4</th>\n",
              "      <td>Matt Geiger</td>\n",
              "      <td>48</td>\n",
              "      <td>11.5</td>\n",
              "      <td>4.5</td>\n",
              "      <td>1.6</td>\n",
              "      <td>3.0</td>\n",
              "      <td>52.4</td>\n",
              "      <td>0.0</td>\n",
              "      <td>0.1</td>\n",
              "      <td>0.0</td>\n",
              "      <td>...</td>\n",
              "      <td>1.9</td>\n",
              "      <td>67.4</td>\n",
              "      <td>1.0</td>\n",
              "      <td>1.5</td>\n",
              "      <td>2.5</td>\n",
              "      <td>0.3</td>\n",
              "      <td>0.3</td>\n",
              "      <td>0.4</td>\n",
              "      <td>0.8</td>\n",
              "      <td>1.0</td>\n",
              "    </tr>\n",
              "  </tbody>\n",
              "</table>\n",
              "<p>5 rows × 21 columns</p>\n",
              "</div>\n",
              "      <button class=\"colab-df-convert\" onclick=\"convertToInteractive('df-54bca633-c7de-4997-a9e6-b9770092c65c')\"\n",
              "              title=\"Convert this dataframe to an interactive table.\"\n",
              "              style=\"display:none;\">\n",
              "        \n",
              "  <svg xmlns=\"http://www.w3.org/2000/svg\" height=\"24px\"viewBox=\"0 0 24 24\"\n",
              "       width=\"24px\">\n",
              "    <path d=\"M0 0h24v24H0V0z\" fill=\"none\"/>\n",
              "    <path d=\"M18.56 5.44l.94 2.06.94-2.06 2.06-.94-2.06-.94-.94-2.06-.94 2.06-2.06.94zm-11 1L8.5 8.5l.94-2.06 2.06-.94-2.06-.94L8.5 2.5l-.94 2.06-2.06.94zm10 10l.94 2.06.94-2.06 2.06-.94-2.06-.94-.94-2.06-.94 2.06-2.06.94z\"/><path d=\"M17.41 7.96l-1.37-1.37c-.4-.4-.92-.59-1.43-.59-.52 0-1.04.2-1.43.59L10.3 9.45l-7.72 7.72c-.78.78-.78 2.05 0 2.83L4 21.41c.39.39.9.59 1.41.59.51 0 1.02-.2 1.41-.59l7.78-7.78 2.81-2.81c.8-.78.8-2.07 0-2.86zM5.41 20L4 18.59l7.72-7.72 1.47 1.35L5.41 20z\"/>\n",
              "  </svg>\n",
              "      </button>\n",
              "      \n",
              "  <style>\n",
              "    .colab-df-container {\n",
              "      display:flex;\n",
              "      flex-wrap:wrap;\n",
              "      gap: 12px;\n",
              "    }\n",
              "\n",
              "    .colab-df-convert {\n",
              "      background-color: #E8F0FE;\n",
              "      border: none;\n",
              "      border-radius: 50%;\n",
              "      cursor: pointer;\n",
              "      display: none;\n",
              "      fill: #1967D2;\n",
              "      height: 32px;\n",
              "      padding: 0 0 0 0;\n",
              "      width: 32px;\n",
              "    }\n",
              "\n",
              "    .colab-df-convert:hover {\n",
              "      background-color: #E2EBFA;\n",
              "      box-shadow: 0px 1px 2px rgba(60, 64, 67, 0.3), 0px 1px 3px 1px rgba(60, 64, 67, 0.15);\n",
              "      fill: #174EA6;\n",
              "    }\n",
              "\n",
              "    [theme=dark] .colab-df-convert {\n",
              "      background-color: #3B4455;\n",
              "      fill: #D2E3FC;\n",
              "    }\n",
              "\n",
              "    [theme=dark] .colab-df-convert:hover {\n",
              "      background-color: #434B5C;\n",
              "      box-shadow: 0px 1px 3px 1px rgba(0, 0, 0, 0.15);\n",
              "      filter: drop-shadow(0px 1px 2px rgba(0, 0, 0, 0.3));\n",
              "      fill: #FFFFFF;\n",
              "    }\n",
              "  </style>\n",
              "\n",
              "      <script>\n",
              "        const buttonEl =\n",
              "          document.querySelector('#df-54bca633-c7de-4997-a9e6-b9770092c65c button.colab-df-convert');\n",
              "        buttonEl.style.display =\n",
              "          google.colab.kernel.accessAllowed ? 'block' : 'none';\n",
              "\n",
              "        async function convertToInteractive(key) {\n",
              "          const element = document.querySelector('#df-54bca633-c7de-4997-a9e6-b9770092c65c');\n",
              "          const dataTable =\n",
              "            await google.colab.kernel.invokeFunction('convertToInteractive',\n",
              "                                                     [key], {});\n",
              "          if (!dataTable) return;\n",
              "\n",
              "          const docLinkHtml = 'Like what you see? Visit the ' +\n",
              "            '<a target=\"_blank\" href=https://colab.research.google.com/notebooks/data_table.ipynb>data table notebook</a>'\n",
              "            + ' to learn more about interactive tables.';\n",
              "          element.innerHTML = '';\n",
              "          dataTable['output_type'] = 'display_data';\n",
              "          await google.colab.output.renderOutput(dataTable, element);\n",
              "          const docLink = document.createElement('div');\n",
              "          docLink.innerHTML = docLinkHtml;\n",
              "          element.appendChild(docLink);\n",
              "        }\n",
              "      </script>\n",
              "    </div>\n",
              "  </div>\n",
              "  "
            ]
          },
          "metadata": {},
          "execution_count": 18
        }
      ]
    },
    {
      "cell_type": "code",
      "source": [
        "df.info()"
      ],
      "metadata": {
        "colab": {
          "base_uri": "https://localhost:8080/"
        },
        "id": "PilBh9AuqUMY",
        "outputId": "1de92612-cde2-4181-8196-bd420aa2a57a"
      },
      "execution_count": null,
      "outputs": [
        {
          "output_type": "stream",
          "name": "stdout",
          "text": [
            "<class 'pandas.core.frame.DataFrame'>\n",
            "RangeIndex: 1340 entries, 0 to 1339\n",
            "Data columns (total 21 columns):\n",
            " #   Column       Non-Null Count  Dtype  \n",
            "---  ------       --------------  -----  \n",
            " 0   Name         1340 non-null   object \n",
            " 1   GP           1340 non-null   int64  \n",
            " 2   MIN          1340 non-null   float64\n",
            " 3   PTS          1340 non-null   float64\n",
            " 4   FGM          1340 non-null   float64\n",
            " 5   FGA          1340 non-null   float64\n",
            " 6   FG%          1340 non-null   float64\n",
            " 7   3P Made      1340 non-null   float64\n",
            " 8   3PA          1340 non-null   float64\n",
            " 9   3P%          1329 non-null   float64\n",
            " 10  FTM          1340 non-null   float64\n",
            " 11  FTA          1340 non-null   float64\n",
            " 12  FT%          1340 non-null   float64\n",
            " 13  OREB         1340 non-null   float64\n",
            " 14  DREB         1340 non-null   float64\n",
            " 15  REB          1340 non-null   float64\n",
            " 16  AST          1340 non-null   float64\n",
            " 17  STL          1340 non-null   float64\n",
            " 18  BLK          1340 non-null   float64\n",
            " 19  TOV          1340 non-null   float64\n",
            " 20  TARGET_5Yrs  1340 non-null   float64\n",
            "dtypes: float64(19), int64(1), object(1)\n",
            "memory usage: 220.0+ KB\n"
          ]
        }
      ]
    },
    {
      "cell_type": "code",
      "source": [
        "df.describe()"
      ],
      "metadata": {
        "colab": {
          "base_uri": "https://localhost:8080/",
          "height": 364
        },
        "id": "sko6qs36rHZR",
        "outputId": "ebf8e178-f80f-46b8-98fc-b1264158c4ac"
      },
      "execution_count": null,
      "outputs": [
        {
          "output_type": "execute_result",
          "data": {
            "text/plain": [
              "                GP          MIN          PTS          FGM          FGA  \\\n",
              "count  1340.000000  1340.000000  1340.000000  1340.000000  1340.000000   \n",
              "mean     60.414179    17.624627     6.801493     2.629104     5.885299   \n",
              "std      17.433992     8.307964     4.357545     1.683555     3.593488   \n",
              "min      11.000000     3.100000     0.700000     0.300000     0.800000   \n",
              "25%      47.000000    10.875000     3.700000     1.400000     3.300000   \n",
              "50%      63.000000    16.100000     5.550000     2.100000     4.800000   \n",
              "75%      77.000000    22.900000     8.800000     3.400000     7.500000   \n",
              "max      82.000000    40.900000    28.200000    10.200000    19.800000   \n",
              "\n",
              "               FG%      3P Made          3PA          3P%          FTM  \\\n",
              "count  1340.000000  1340.000000  1340.000000  1329.000000  1340.000000   \n",
              "mean     44.169403     0.247612     0.779179    19.308126     1.297687   \n",
              "std       6.137679     0.383688     1.061847    16.022916     0.987246   \n",
              "min      23.800000     0.000000     0.000000     0.000000     0.000000   \n",
              "25%      40.200000     0.000000     0.000000     0.000000     0.600000   \n",
              "50%      44.100000     0.100000     0.300000    22.400000     1.000000   \n",
              "75%      47.900000     0.400000     1.200000    32.500000     1.600000   \n",
              "max      73.700000     2.300000     6.500000   100.000000     7.700000   \n",
              "\n",
              "               FTA          FT%         OREB         DREB          REB  \\\n",
              "count  1340.000000  1340.000000  1340.000000  1340.000000  1340.000000   \n",
              "mean      1.821940    70.300299     1.009403     2.025746     3.034478   \n",
              "std       1.322984    10.578479     0.777119     1.360008     2.057774   \n",
              "min       0.000000     0.000000     0.000000     0.200000     0.300000   \n",
              "25%       0.900000    64.700000     0.400000     1.000000     1.500000   \n",
              "50%       1.500000    71.250000     0.800000     1.700000     2.500000   \n",
              "75%       2.300000    77.600000     1.400000     2.600000     4.000000   \n",
              "max      10.200000   100.000000     5.300000     9.600000    13.900000   \n",
              "\n",
              "               AST          STL          BLK          TOV  TARGET_5Yrs  \n",
              "count  1340.000000  1340.000000  1340.000000  1340.000000  1340.000000  \n",
              "mean      1.550522     0.618507     0.368582     1.193582     0.620149  \n",
              "std       1.471169     0.409759     0.429049     0.722541     0.485531  \n",
              "min       0.000000     0.000000     0.000000     0.100000     0.000000  \n",
              "25%       0.600000     0.300000     0.100000     0.700000     0.000000  \n",
              "50%       1.100000     0.500000     0.200000     1.000000     1.000000  \n",
              "75%       2.000000     0.800000     0.500000     1.500000     1.000000  \n",
              "max      10.600000     2.500000     3.900000     4.400000     1.000000  "
            ],
            "text/html": [
              "\n",
              "  <div id=\"df-65aa24da-20b7-442f-9f34-2a47ebb85de7\">\n",
              "    <div class=\"colab-df-container\">\n",
              "      <div>\n",
              "<style scoped>\n",
              "    .dataframe tbody tr th:only-of-type {\n",
              "        vertical-align: middle;\n",
              "    }\n",
              "\n",
              "    .dataframe tbody tr th {\n",
              "        vertical-align: top;\n",
              "    }\n",
              "\n",
              "    .dataframe thead th {\n",
              "        text-align: right;\n",
              "    }\n",
              "</style>\n",
              "<table border=\"1\" class=\"dataframe\">\n",
              "  <thead>\n",
              "    <tr style=\"text-align: right;\">\n",
              "      <th></th>\n",
              "      <th>GP</th>\n",
              "      <th>MIN</th>\n",
              "      <th>PTS</th>\n",
              "      <th>FGM</th>\n",
              "      <th>FGA</th>\n",
              "      <th>FG%</th>\n",
              "      <th>3P Made</th>\n",
              "      <th>3PA</th>\n",
              "      <th>3P%</th>\n",
              "      <th>FTM</th>\n",
              "      <th>FTA</th>\n",
              "      <th>FT%</th>\n",
              "      <th>OREB</th>\n",
              "      <th>DREB</th>\n",
              "      <th>REB</th>\n",
              "      <th>AST</th>\n",
              "      <th>STL</th>\n",
              "      <th>BLK</th>\n",
              "      <th>TOV</th>\n",
              "      <th>TARGET_5Yrs</th>\n",
              "    </tr>\n",
              "  </thead>\n",
              "  <tbody>\n",
              "    <tr>\n",
              "      <th>count</th>\n",
              "      <td>1340.000000</td>\n",
              "      <td>1340.000000</td>\n",
              "      <td>1340.000000</td>\n",
              "      <td>1340.000000</td>\n",
              "      <td>1340.000000</td>\n",
              "      <td>1340.000000</td>\n",
              "      <td>1340.000000</td>\n",
              "      <td>1340.000000</td>\n",
              "      <td>1329.000000</td>\n",
              "      <td>1340.000000</td>\n",
              "      <td>1340.000000</td>\n",
              "      <td>1340.000000</td>\n",
              "      <td>1340.000000</td>\n",
              "      <td>1340.000000</td>\n",
              "      <td>1340.000000</td>\n",
              "      <td>1340.000000</td>\n",
              "      <td>1340.000000</td>\n",
              "      <td>1340.000000</td>\n",
              "      <td>1340.000000</td>\n",
              "      <td>1340.000000</td>\n",
              "    </tr>\n",
              "    <tr>\n",
              "      <th>mean</th>\n",
              "      <td>60.414179</td>\n",
              "      <td>17.624627</td>\n",
              "      <td>6.801493</td>\n",
              "      <td>2.629104</td>\n",
              "      <td>5.885299</td>\n",
              "      <td>44.169403</td>\n",
              "      <td>0.247612</td>\n",
              "      <td>0.779179</td>\n",
              "      <td>19.308126</td>\n",
              "      <td>1.297687</td>\n",
              "      <td>1.821940</td>\n",
              "      <td>70.300299</td>\n",
              "      <td>1.009403</td>\n",
              "      <td>2.025746</td>\n",
              "      <td>3.034478</td>\n",
              "      <td>1.550522</td>\n",
              "      <td>0.618507</td>\n",
              "      <td>0.368582</td>\n",
              "      <td>1.193582</td>\n",
              "      <td>0.620149</td>\n",
              "    </tr>\n",
              "    <tr>\n",
              "      <th>std</th>\n",
              "      <td>17.433992</td>\n",
              "      <td>8.307964</td>\n",
              "      <td>4.357545</td>\n",
              "      <td>1.683555</td>\n",
              "      <td>3.593488</td>\n",
              "      <td>6.137679</td>\n",
              "      <td>0.383688</td>\n",
              "      <td>1.061847</td>\n",
              "      <td>16.022916</td>\n",
              "      <td>0.987246</td>\n",
              "      <td>1.322984</td>\n",
              "      <td>10.578479</td>\n",
              "      <td>0.777119</td>\n",
              "      <td>1.360008</td>\n",
              "      <td>2.057774</td>\n",
              "      <td>1.471169</td>\n",
              "      <td>0.409759</td>\n",
              "      <td>0.429049</td>\n",
              "      <td>0.722541</td>\n",
              "      <td>0.485531</td>\n",
              "    </tr>\n",
              "    <tr>\n",
              "      <th>min</th>\n",
              "      <td>11.000000</td>\n",
              "      <td>3.100000</td>\n",
              "      <td>0.700000</td>\n",
              "      <td>0.300000</td>\n",
              "      <td>0.800000</td>\n",
              "      <td>23.800000</td>\n",
              "      <td>0.000000</td>\n",
              "      <td>0.000000</td>\n",
              "      <td>0.000000</td>\n",
              "      <td>0.000000</td>\n",
              "      <td>0.000000</td>\n",
              "      <td>0.000000</td>\n",
              "      <td>0.000000</td>\n",
              "      <td>0.200000</td>\n",
              "      <td>0.300000</td>\n",
              "      <td>0.000000</td>\n",
              "      <td>0.000000</td>\n",
              "      <td>0.000000</td>\n",
              "      <td>0.100000</td>\n",
              "      <td>0.000000</td>\n",
              "    </tr>\n",
              "    <tr>\n",
              "      <th>25%</th>\n",
              "      <td>47.000000</td>\n",
              "      <td>10.875000</td>\n",
              "      <td>3.700000</td>\n",
              "      <td>1.400000</td>\n",
              "      <td>3.300000</td>\n",
              "      <td>40.200000</td>\n",
              "      <td>0.000000</td>\n",
              "      <td>0.000000</td>\n",
              "      <td>0.000000</td>\n",
              "      <td>0.600000</td>\n",
              "      <td>0.900000</td>\n",
              "      <td>64.700000</td>\n",
              "      <td>0.400000</td>\n",
              "      <td>1.000000</td>\n",
              "      <td>1.500000</td>\n",
              "      <td>0.600000</td>\n",
              "      <td>0.300000</td>\n",
              "      <td>0.100000</td>\n",
              "      <td>0.700000</td>\n",
              "      <td>0.000000</td>\n",
              "    </tr>\n",
              "    <tr>\n",
              "      <th>50%</th>\n",
              "      <td>63.000000</td>\n",
              "      <td>16.100000</td>\n",
              "      <td>5.550000</td>\n",
              "      <td>2.100000</td>\n",
              "      <td>4.800000</td>\n",
              "      <td>44.100000</td>\n",
              "      <td>0.100000</td>\n",
              "      <td>0.300000</td>\n",
              "      <td>22.400000</td>\n",
              "      <td>1.000000</td>\n",
              "      <td>1.500000</td>\n",
              "      <td>71.250000</td>\n",
              "      <td>0.800000</td>\n",
              "      <td>1.700000</td>\n",
              "      <td>2.500000</td>\n",
              "      <td>1.100000</td>\n",
              "      <td>0.500000</td>\n",
              "      <td>0.200000</td>\n",
              "      <td>1.000000</td>\n",
              "      <td>1.000000</td>\n",
              "    </tr>\n",
              "    <tr>\n",
              "      <th>75%</th>\n",
              "      <td>77.000000</td>\n",
              "      <td>22.900000</td>\n",
              "      <td>8.800000</td>\n",
              "      <td>3.400000</td>\n",
              "      <td>7.500000</td>\n",
              "      <td>47.900000</td>\n",
              "      <td>0.400000</td>\n",
              "      <td>1.200000</td>\n",
              "      <td>32.500000</td>\n",
              "      <td>1.600000</td>\n",
              "      <td>2.300000</td>\n",
              "      <td>77.600000</td>\n",
              "      <td>1.400000</td>\n",
              "      <td>2.600000</td>\n",
              "      <td>4.000000</td>\n",
              "      <td>2.000000</td>\n",
              "      <td>0.800000</td>\n",
              "      <td>0.500000</td>\n",
              "      <td>1.500000</td>\n",
              "      <td>1.000000</td>\n",
              "    </tr>\n",
              "    <tr>\n",
              "      <th>max</th>\n",
              "      <td>82.000000</td>\n",
              "      <td>40.900000</td>\n",
              "      <td>28.200000</td>\n",
              "      <td>10.200000</td>\n",
              "      <td>19.800000</td>\n",
              "      <td>73.700000</td>\n",
              "      <td>2.300000</td>\n",
              "      <td>6.500000</td>\n",
              "      <td>100.000000</td>\n",
              "      <td>7.700000</td>\n",
              "      <td>10.200000</td>\n",
              "      <td>100.000000</td>\n",
              "      <td>5.300000</td>\n",
              "      <td>9.600000</td>\n",
              "      <td>13.900000</td>\n",
              "      <td>10.600000</td>\n",
              "      <td>2.500000</td>\n",
              "      <td>3.900000</td>\n",
              "      <td>4.400000</td>\n",
              "      <td>1.000000</td>\n",
              "    </tr>\n",
              "  </tbody>\n",
              "</table>\n",
              "</div>\n",
              "      <button class=\"colab-df-convert\" onclick=\"convertToInteractive('df-65aa24da-20b7-442f-9f34-2a47ebb85de7')\"\n",
              "              title=\"Convert this dataframe to an interactive table.\"\n",
              "              style=\"display:none;\">\n",
              "        \n",
              "  <svg xmlns=\"http://www.w3.org/2000/svg\" height=\"24px\"viewBox=\"0 0 24 24\"\n",
              "       width=\"24px\">\n",
              "    <path d=\"M0 0h24v24H0V0z\" fill=\"none\"/>\n",
              "    <path d=\"M18.56 5.44l.94 2.06.94-2.06 2.06-.94-2.06-.94-.94-2.06-.94 2.06-2.06.94zm-11 1L8.5 8.5l.94-2.06 2.06-.94-2.06-.94L8.5 2.5l-.94 2.06-2.06.94zm10 10l.94 2.06.94-2.06 2.06-.94-2.06-.94-.94-2.06-.94 2.06-2.06.94z\"/><path d=\"M17.41 7.96l-1.37-1.37c-.4-.4-.92-.59-1.43-.59-.52 0-1.04.2-1.43.59L10.3 9.45l-7.72 7.72c-.78.78-.78 2.05 0 2.83L4 21.41c.39.39.9.59 1.41.59.51 0 1.02-.2 1.41-.59l7.78-7.78 2.81-2.81c.8-.78.8-2.07 0-2.86zM5.41 20L4 18.59l7.72-7.72 1.47 1.35L5.41 20z\"/>\n",
              "  </svg>\n",
              "      </button>\n",
              "      \n",
              "  <style>\n",
              "    .colab-df-container {\n",
              "      display:flex;\n",
              "      flex-wrap:wrap;\n",
              "      gap: 12px;\n",
              "    }\n",
              "\n",
              "    .colab-df-convert {\n",
              "      background-color: #E8F0FE;\n",
              "      border: none;\n",
              "      border-radius: 50%;\n",
              "      cursor: pointer;\n",
              "      display: none;\n",
              "      fill: #1967D2;\n",
              "      height: 32px;\n",
              "      padding: 0 0 0 0;\n",
              "      width: 32px;\n",
              "    }\n",
              "\n",
              "    .colab-df-convert:hover {\n",
              "      background-color: #E2EBFA;\n",
              "      box-shadow: 0px 1px 2px rgba(60, 64, 67, 0.3), 0px 1px 3px 1px rgba(60, 64, 67, 0.15);\n",
              "      fill: #174EA6;\n",
              "    }\n",
              "\n",
              "    [theme=dark] .colab-df-convert {\n",
              "      background-color: #3B4455;\n",
              "      fill: #D2E3FC;\n",
              "    }\n",
              "\n",
              "    [theme=dark] .colab-df-convert:hover {\n",
              "      background-color: #434B5C;\n",
              "      box-shadow: 0px 1px 3px 1px rgba(0, 0, 0, 0.15);\n",
              "      filter: drop-shadow(0px 1px 2px rgba(0, 0, 0, 0.3));\n",
              "      fill: #FFFFFF;\n",
              "    }\n",
              "  </style>\n",
              "\n",
              "      <script>\n",
              "        const buttonEl =\n",
              "          document.querySelector('#df-65aa24da-20b7-442f-9f34-2a47ebb85de7 button.colab-df-convert');\n",
              "        buttonEl.style.display =\n",
              "          google.colab.kernel.accessAllowed ? 'block' : 'none';\n",
              "\n",
              "        async function convertToInteractive(key) {\n",
              "          const element = document.querySelector('#df-65aa24da-20b7-442f-9f34-2a47ebb85de7');\n",
              "          const dataTable =\n",
              "            await google.colab.kernel.invokeFunction('convertToInteractive',\n",
              "                                                     [key], {});\n",
              "          if (!dataTable) return;\n",
              "\n",
              "          const docLinkHtml = 'Like what you see? Visit the ' +\n",
              "            '<a target=\"_blank\" href=https://colab.research.google.com/notebooks/data_table.ipynb>data table notebook</a>'\n",
              "            + ' to learn more about interactive tables.';\n",
              "          element.innerHTML = '';\n",
              "          dataTable['output_type'] = 'display_data';\n",
              "          await google.colab.output.renderOutput(dataTable, element);\n",
              "          const docLink = document.createElement('div');\n",
              "          docLink.innerHTML = docLinkHtml;\n",
              "          element.appendChild(docLink);\n",
              "        }\n",
              "      </script>\n",
              "    </div>\n",
              "  </div>\n",
              "  "
            ]
          },
          "metadata": {},
          "execution_count": 20
        }
      ]
    },
    {
      "cell_type": "code",
      "source": [
        "missingValues = df.isnull().sum()\n",
        "print(missingValues)\n",
        "# Percentage of missing data\n",
        "totCells = np.product(df.shape)\n",
        "total_missing = missingValues.sum()\n",
        "percMissing = (total_missing/totCells) * 100\n",
        "print(\"Missing Perc : \", percMissing)"
      ],
      "metadata": {
        "colab": {
          "base_uri": "https://localhost:8080/"
        },
        "id": "nE2SLhOusIF2",
        "outputId": "8cbd3307-3a58-40ea-b09e-9484379ce570"
      },
      "execution_count": null,
      "outputs": [
        {
          "output_type": "stream",
          "name": "stdout",
          "text": [
            "Name            0\n",
            "GP              0\n",
            "MIN             0\n",
            "PTS             0\n",
            "FGM             0\n",
            "FGA             0\n",
            "FG%             0\n",
            "3P Made         0\n",
            "3PA             0\n",
            "3P%            11\n",
            "FTM             0\n",
            "FTA             0\n",
            "FT%             0\n",
            "OREB            0\n",
            "DREB            0\n",
            "REB             0\n",
            "AST             0\n",
            "STL             0\n",
            "BLK             0\n",
            "TOV             0\n",
            "TARGET_5Yrs     0\n",
            "dtype: int64\n",
            "Missing Perc :  0.03909026297085999\n"
          ]
        }
      ]
    },
    {
      "cell_type": "code",
      "source": [
        "sns.heatmap(df.isnull())"
      ],
      "metadata": {
        "colab": {
          "base_uri": "https://localhost:8080/",
          "height": 343
        },
        "id": "CgKSTLnlsNxv",
        "outputId": "595162e2-e55f-4789-96df-263910af65ae"
      },
      "execution_count": null,
      "outputs": [
        {
          "output_type": "execute_result",
          "data": {
            "text/plain": [
              "<matplotlib.axes._subplots.AxesSubplot at 0x7efee22cbad0>"
            ]
          },
          "metadata": {},
          "execution_count": 22
        },
        {
          "output_type": "display_data",
          "data": {
            "text/plain": [
              "<Figure size 432x288 with 2 Axes>"
            ],
            "image/png": "[encoded data removed]"
          },
          "metadata": {
            "needs_background": "light"
          }
        }
      ]
    },
    {
      "cell_type": "code",
      "source": [
        "df['3P%'].fillna(value=df['3P%'].mean(),inplace=True)\n",
        "sns.heatmap(df.isnull())"
      ],
      "metadata": {
        "colab": {
          "base_uri": "https://localhost:8080/",
          "height": 343
        },
        "id": "InNRUhRssQqU",
        "outputId": "af51a07e-fd32-469e-b8d9-7696e6813873"
      },
      "execution_count": null,
      "outputs": [
        {
          "output_type": "execute_result",
          "data": {
            "text/plain": [
              "<matplotlib.axes._subplots.AxesSubplot at 0x7efee21e1e10>"
            ]
          },
          "metadata": {},
          "execution_count": 23
        },
        {
          "output_type": "display_data",
          "data": {
            "text/plain": [
              "<Figure size 432x288 with 2 Axes>"
            ],
            "image/png": "[encoded data removed]"
          },
          "metadata": {
            "needs_background": "light"
          }
        }
      ]
    },
    {
      "cell_type": "code",
      "source": [
        "df.info()"
      ],
      "metadata": {
        "colab": {
          "base_uri": "https://localhost:8080/"
        },
        "id": "sl4jMx1ntKH3",
        "outputId": "c89f3c51-73c0-40a0-fb01-cded7e724c5c"
      },
      "execution_count": null,
      "outputs": [
        {
          "output_type": "stream",
          "name": "stdout",
          "text": [
            "<class 'pandas.core.frame.DataFrame'>\n",
            "RangeIndex: 1340 entries, 0 to 1339\n",
            "Data columns (total 21 columns):\n",
            " #   Column       Non-Null Count  Dtype  \n",
            "---  ------       --------------  -----  \n",
            " 0   Name         1340 non-null   object \n",
            " 1   GP           1340 non-null   int64  \n",
            " 2   MIN          1340 non-null   float64\n",
            " 3   PTS          1340 non-null   float64\n",
            " 4   FGM          1340 non-null   float64\n",
            " 5   FGA          1340 non-null   float64\n",
            " 6   FG%          1340 non-null   float64\n",
            " 7   3P Made      1340 non-null   float64\n",
            " 8   3PA          1340 non-null   float64\n",
            " 9   3P%          1340 non-null   float64\n",
            " 10  FTM          1340 non-null   float64\n",
            " 11  FTA          1340 non-null   float64\n",
            " 12  FT%          1340 non-null   float64\n",
            " 13  OREB         1340 non-null   float64\n",
            " 14  DREB         1340 non-null   float64\n",
            " 15  REB          1340 non-null   float64\n",
            " 16  AST          1340 non-null   float64\n",
            " 17  STL          1340 non-null   float64\n",
            " 18  BLK          1340 non-null   float64\n",
            " 19  TOV          1340 non-null   float64\n",
            " 20  TARGET_5Yrs  1340 non-null   float64\n",
            "dtypes: float64(19), int64(1), object(1)\n",
            "memory usage: 220.0+ KB\n"
          ]
        }
      ]
    },
    {
      "cell_type": "markdown",
      "source": [
        "# **Train Test Split**"
      ],
      "metadata": {
        "id": "hVzhpo3duk28"
      }
    },
    {
      "cell_type": "code",
      "source": [
        "new_df = df.drop(\"Name\", axis = 1)"
      ],
      "metadata": {
        "id": "953vD4mj7gXs"
      },
      "execution_count": null,
      "outputs": []
    },
    {
      "cell_type": "code",
      "source": [
        "new_df"
      ],
      "metadata": {
        "colab": {
          "base_uri": "https://localhost:8080/",
          "height": 424
        },
        "id": "F7WbAp_QbKGo",
        "outputId": "984336d8-3b23-4218-857c-8d5691c0b266"
      },
      "execution_count": null,
      "outputs": [
        {
          "output_type": "execute_result",
          "data": {
            "text/plain": [
              "      GP   MIN  PTS  FGM  FGA   FG%  3P Made  3PA   3P%  FTM  FTA   FT%  OREB  \\\n",
              "0     36  27.4  7.4  2.6  7.6  34.7      0.5  2.1  25.0  1.6  2.3  69.9   0.7   \n",
              "1     35  26.9  7.2  2.0  6.7  29.6      0.7  2.8  23.5  2.6  3.4  76.5   0.5   \n",
              "2     74  15.3  5.2  2.0  4.7  42.2      0.4  1.7  24.4  0.9  1.3  67.0   0.5   \n",
              "3     58  11.6  5.7  2.3  5.5  42.6      0.1  0.5  22.6  0.9  1.3  68.9   1.0   \n",
              "4     48  11.5  4.5  1.6  3.0  52.4      0.0  0.1   0.0  1.3  1.9  67.4   1.0   \n",
              "...   ..   ...  ...  ...  ...   ...      ...  ...   ...  ...  ...   ...   ...   \n",
              "1335  80  15.8  4.3  1.6  3.6  43.3      0.0  0.2  14.3  1.2  1.5  79.2   0.4   \n",
              "1336  68  12.6  3.9  1.5  4.1  35.8      0.1  0.7  16.7  0.8  1.0  79.4   0.4   \n",
              "1337  43  12.1  5.4  2.2  3.9  55.0      0.0  0.0   0.0  1.0  1.6  64.3   1.5   \n",
              "1338  52  12.0  4.5  1.7  3.8  43.9      0.0  0.2  10.0  1.2  1.8  62.5   0.2   \n",
              "1339  47  11.7  4.4  1.6  4.4  36.9      0.4  1.3  33.3  0.7  1.0  67.3   0.2   \n",
              "\n",
              "      DREB  REB  AST  STL  BLK  TOV  TARGET_5Yrs  \n",
              "0      3.4  4.1  1.9  0.4  0.4  1.3          0.0  \n",
              "1      2.0  2.4  3.7  1.1  0.5  1.6          0.0  \n",
              "2      1.7  2.2  1.0  0.5  0.3  1.0          0.0  \n",
              "3      0.9  1.9  0.8  0.6  0.1  1.0          1.0  \n",
              "4      1.5  2.5  0.3  0.3  0.4  0.8          1.0  \n",
              "...    ...  ...  ...  ...  ...  ...          ...  \n",
              "1335   0.8  1.2  2.5  0.6  0.2  0.8          0.0  \n",
              "1336   1.1  1.5  2.3  0.8  0.0  1.3          1.0  \n",
              "1337   2.3  3.8  0.3  0.3  0.4  0.9          0.0  \n",
              "1338   0.4  0.7  2.2  0.4  0.1  0.8          1.0  \n",
              "1339   0.7  0.9  1.4  0.7  0.1  0.9          1.0  \n",
              "\n",
              "[1340 rows x 20 columns]"
            ],
            "text/html": [
              "\n",
              "  <div id=\"df-494643a0-0721-4bad-8cfa-df85617b1e92\">\n",
              "    <div class=\"colab-df-container\">\n",
              "      <div>\n",
              "<style scoped>\n",
              "    .dataframe tbody tr th:only-of-type {\n",
              "        vertical-align: middle;\n",
              "    }\n",
              "\n",
              "    .dataframe tbody tr th {\n",
              "        vertical-align: top;\n",
              "    }\n",
              "\n",
              "    .dataframe thead th {\n",
              "        text-align: right;\n",
              "    }\n",
              "</style>\n",
              "<table border=\"1\" class=\"dataframe\">\n",
              "  <thead>\n",
              "    <tr style=\"text-align: right;\">\n",
              "      <th></th>\n",
              "      <th>GP</th>\n",
              "      <th>MIN</th>\n",
              "      <th>PTS</th>\n",
              "      <th>FGM</th>\n",
              "      <th>FGA</th>\n",
              "      <th>FG%</th>\n",
              "      <th>3P Made</th>\n",
              "      <th>3PA</th>\n",
              "      <th>3P%</th>\n",
              "      <th>FTM</th>\n",
              "      <th>FTA</th>\n",
              "      <th>FT%</th>\n",
              "      <th>OREB</th>\n",
              "      <th>DREB</th>\n",
              "      <th>REB</th>\n",
              "      <th>AST</th>\n",
              "      <th>STL</th>\n",
              "      <th>BLK</th>\n",
              "      <th>TOV</th>\n",
              "      <th>TARGET_5Yrs</th>\n",
              "    </tr>\n",
              "  </thead>\n",
              "  <tbody>\n",
              "    <tr>\n",
              "      <th>0</th>\n",
              "      <td>36</td>\n",
              "      <td>27.4</td>\n",
              "      <td>7.4</td>\n",
              "      <td>2.6</td>\n",
              "      <td>7.6</td>\n",
              "      <td>34.7</td>\n",
              "      <td>0.5</td>\n",
              "      <td>2.1</td>\n",
              "      <td>25.0</td>\n",
              "      <td>1.6</td>\n",
              "      <td>2.3</td>\n",
              "      <td>69.9</td>\n",
              "      <td>0.7</td>\n",
              "      <td>3.4</td>\n",
              "      <td>4.1</td>\n",
              "      <td>1.9</td>\n",
              "      <td>0.4</td>\n",
              "      <td>0.4</td>\n",
              "      <td>1.3</td>\n",
              "      <td>0.0</td>\n",
              "    </tr>\n",
              "    <tr>\n",
              "      <th>1</th>\n",
              "      <td>35</td>\n",
              "      <td>26.9</td>\n",
              "      <td>7.2</td>\n",
              "      <td>2.0</td>\n",
              "      <td>6.7</td>\n",
              "      <td>29.6</td>\n",
              "      <td>0.7</td>\n",
              "      <td>2.8</td>\n",
              "      <td>23.5</td>\n",
              "      <td>2.6</td>\n",
              "      <td>3.4</td>\n",
              "      <td>76.5</td>\n",
              "      <td>0.5</td>\n",
              "      <td>2.0</td>\n",
              "      <td>2.4</td>\n",
              "      <td>3.7</td>\n",
              "      <td>1.1</td>\n",
              "      <td>0.5</td>\n",
              "      <td>1.6</td>\n",
              "      <td>0.0</td>\n",
              "    </tr>\n",
              "    <tr>\n",
              "      <th>2</th>\n",
              "      <td>74</td>\n",
              "      <td>15.3</td>\n",
              "      <td>5.2</td>\n",
              "      <td>2.0</td>\n",
              "      <td>4.7</td>\n",
              "      <td>42.2</td>\n",
              "      <td>0.4</td>\n",
              "      <td>1.7</td>\n",
              "      <td>24.4</td>\n",
              "      <td>0.9</td>\n",
              "      <td>1.3</td>\n",
              "      <td>67.0</td>\n",
              "      <td>0.5</td>\n",
              "      <td>1.7</td>\n",
              "      <td>2.2</td>\n",
              "      <td>1.0</td>\n",
              "      <td>0.5</td>\n",
              "      <td>0.3</td>\n",
              "      <td>1.0</td>\n",
              "      <td>0.0</td>\n",
              "    </tr>\n",
              "    <tr>\n",
              "      <th>3</th>\n",
              "      <td>58</td>\n",
              "      <td>11.6</td>\n",
              "      <td>5.7</td>\n",
              "      <td>2.3</td>\n",
              "      <td>5.5</td>\n",
              "      <td>42.6</td>\n",
              "      <td>0.1</td>\n",
              "      <td>0.5</td>\n",
              "      <td>22.6</td>\n",
              "      <td>0.9</td>\n",
              "      <td>1.3</td>\n",
              "      <td>68.9</td>\n",
              "      <td>1.0</td>\n",
              "      <td>0.9</td>\n",
              "      <td>1.9</td>\n",
              "      <td>0.8</td>\n",
              "      <td>0.6</td>\n",
              "      <td>0.1</td>\n",
              "      <td>1.0</td>\n",
              "      <td>1.0</td>\n",
              "    </tr>\n",
              "    <tr>\n",
              "      <th>4</th>\n",
              "      <td>48</td>\n",
              "      <td>11.5</td>\n",
              "      <td>4.5</td>\n",
              "      <td>1.6</td>\n",
              "      <td>3.0</td>\n",
              "      <td>52.4</td>\n",
              "      <td>0.0</td>\n",
              "      <td>0.1</td>\n",
              "      <td>0.0</td>\n",
              "      <td>1.3</td>\n",
              "      <td>1.9</td>\n",
              "      <td>67.4</td>\n",
              "      <td>1.0</td>\n",
              "      <td>1.5</td>\n",
              "      <td>2.5</td>\n",
              "      <td>0.3</td>\n",
              "      <td>0.3</td>\n",
              "      <td>0.4</td>\n",
              "      <td>0.8</td>\n",
              "      <td>1.0</td>\n",
              "    </tr>\n",
              "    <tr>\n",
              "      <th>...</th>\n",
              "      <td>...</td>\n",
              "      <td>...</td>\n",
              "      <td>...</td>\n",
              "      <td>...</td>\n",
              "      <td>...</td>\n",
              "      <td>...</td>\n",
              "      <td>...</td>\n",
              "      <td>...</td>\n",
              "      <td>...</td>\n",
              "      <td>...</td>\n",
              "      <td>...</td>\n",
              "      <td>...</td>\n",
              "      <td>...</td>\n",
              "      <td>...</td>\n",
              "      <td>...</td>\n",
              "      <td>...</td>\n",
              "      <td>...</td>\n",
              "      <td>...</td>\n",
              "      <td>...</td>\n",
              "      <td>...</td>\n",
              "    </tr>\n",
              "    <tr>\n",
              "      <th>1335</th>\n",
              "      <td>80</td>\n",
              "      <td>15.8</td>\n",
              "      <td>4.3</td>\n",
              "      <td>1.6</td>\n",
              "      <td>3.6</td>\n",
              "      <td>43.3</td>\n",
              "      <td>0.0</td>\n",
              "      <td>0.2</td>\n",
              "      <td>14.3</td>\n",
              "      <td>1.2</td>\n",
              "      <td>1.5</td>\n",
              "      <td>79.2</td>\n",
              "      <td>0.4</td>\n",
              "      <td>0.8</td>\n",
              "      <td>1.2</td>\n",
              "      <td>2.5</td>\n",
              "      <td>0.6</td>\n",
              "      <td>0.2</td>\n",
              "      <td>0.8</td>\n",
              "      <td>0.0</td>\n",
              "    </tr>\n",
              "    <tr>\n",
              "      <th>1336</th>\n",
              "      <td>68</td>\n",
              "      <td>12.6</td>\n",
              "      <td>3.9</td>\n",
              "      <td>1.5</td>\n",
              "      <td>4.1</td>\n",
              "      <td>35.8</td>\n",
              "      <td>0.1</td>\n",
              "      <td>0.7</td>\n",
              "      <td>16.7</td>\n",
              "      <td>0.8</td>\n",
              "      <td>1.0</td>\n",
              "      <td>79.4</td>\n",
              "      <td>0.4</td>\n",
              "      <td>1.1</td>\n",
              "      <td>1.5</td>\n",
              "      <td>2.3</td>\n",
              "      <td>0.8</td>\n",
              "      <td>0.0</td>\n",
              "      <td>1.3</td>\n",
              "      <td>1.0</td>\n",
              "    </tr>\n",
              "    <tr>\n",
              "      <th>1337</th>\n",
              "      <td>43</td>\n",
              "      <td>12.1</td>\n",
              "      <td>5.4</td>\n",
              "      <td>2.2</td>\n",
              "      <td>3.9</td>\n",
              "      <td>55.0</td>\n",
              "      <td>0.0</td>\n",
              "      <td>0.0</td>\n",
              "      <td>0.0</td>\n",
              "      <td>1.0</td>\n",
              "      <td>1.6</td>\n",
              "      <td>64.3</td>\n",
              "      <td>1.5</td>\n",
              "      <td>2.3</td>\n",
              "      <td>3.8</td>\n",
              "      <td>0.3</td>\n",
              "      <td>0.3</td>\n",
              "      <td>0.4</td>\n",
              "      <td>0.9</td>\n",
              "      <td>0.0</td>\n",
              "    </tr>\n",
              "    <tr>\n",
              "      <th>1338</th>\n",
              "      <td>52</td>\n",
              "      <td>12.0</td>\n",
              "      <td>4.5</td>\n",
              "      <td>1.7</td>\n",
              "      <td>3.8</td>\n",
              "      <td>43.9</td>\n",
              "      <td>0.0</td>\n",
              "      <td>0.2</td>\n",
              "      <td>10.0</td>\n",
              "      <td>1.2</td>\n",
              "      <td>1.8</td>\n",
              "      <td>62.5</td>\n",
              "      <td>0.2</td>\n",
              "      <td>0.4</td>\n",
              "      <td>0.7</td>\n",
              "      <td>2.2</td>\n",
              "      <td>0.4</td>\n",
              "      <td>0.1</td>\n",
              "      <td>0.8</td>\n",
              "      <td>1.0</td>\n",
              "    </tr>\n",
              "    <tr>\n",
              "      <th>1339</th>\n",
              "      <td>47</td>\n",
              "      <td>11.7</td>\n",
              "      <td>4.4</td>\n",
              "      <td>1.6</td>\n",
              "      <td>4.4</td>\n",
              "      <td>36.9</td>\n",
              "      <td>0.4</td>\n",
              "      <td>1.3</td>\n",
              "      <td>33.3</td>\n",
              "      <td>0.7</td>\n",
              "      <td>1.0</td>\n",
              "      <td>67.3</td>\n",
              "      <td>0.2</td>\n",
              "      <td>0.7</td>\n",
              "      <td>0.9</td>\n",
              "      <td>1.4</td>\n",
              "      <td>0.7</td>\n",
              "      <td>0.1</td>\n",
              "      <td>0.9</td>\n",
              "      <td>1.0</td>\n",
              "    </tr>\n",
              "  </tbody>\n",
              "</table>\n",
              "<p>1340 rows × 20 columns</p>\n",
              "</div>\n",
              "      <button class=\"colab-df-convert\" onclick=\"convertToInteractive('df-494643a0-0721-4bad-8cfa-df85617b1e92')\"\n",
              "              title=\"Convert this dataframe to an interactive table.\"\n",
              "              style=\"display:none;\">\n",
              "        \n",
              "  <svg xmlns=\"http://www.w3.org/2000/svg\" height=\"24px\"viewBox=\"0 0 24 24\"\n",
              "       width=\"24px\">\n",
              "    <path d=\"M0 0h24v24H0V0z\" fill=\"none\"/>\n",
              "    <path d=\"M18.56 5.44l.94 2.06.94-2.06 2.06-.94-2.06-.94-.94-2.06-.94 2.06-2.06.94zm-11 1L8.5 8.5l.94-2.06 2.06-.94-2.06-.94L8.5 2.5l-.94 2.06-2.06.94zm10 10l.94 2.06.94-2.06 2.06-.94-2.06-.94-.94-2.06-.94 2.06-2.06.94z\"/><path d=\"M17.41 7.96l-1.37-1.37c-.4-.4-.92-.59-1.43-.59-.52 0-1.04.2-1.43.59L10.3 9.45l-7.72 7.72c-.78.78-.78 2.05 0 2.83L4 21.41c.39.39.9.59 1.41.59.51 0 1.02-.2 1.41-.59l7.78-7.78 2.81-2.81c.8-.78.8-2.07 0-2.86zM5.41 20L4 18.59l7.72-7.72 1.47 1.35L5.41 20z\"/>\n",
              "  </svg>\n",
              "      </button>\n",
              "      \n",
              "  <style>\n",
              "    .colab-df-container {\n",
              "      display:flex;\n",
              "      flex-wrap:wrap;\n",
              "      gap: 12px;\n",
              "    }\n",
              "\n",
              "    .colab-df-convert {\n",
              "      background-color: #E8F0FE;\n",
              "      border: none;\n",
              "      border-radius: 50%;\n",
              "      cursor: pointer;\n",
              "      display: none;\n",
              "      fill: #1967D2;\n",
              "      height: 32px;\n",
              "      padding: 0 0 0 0;\n",
              "      width: 32px;\n",
              "    }\n",
              "\n",
              "    .colab-df-convert:hover {\n",
              "      background-color: #E2EBFA;\n",
              "      box-shadow: 0px 1px 2px rgba(60, 64, 67, 0.3), 0px 1px 3px 1px rgba(60, 64, 67, 0.15);\n",
              "      fill: #174EA6;\n",
              "    }\n",
              "\n",
              "    [theme=dark] .colab-df-convert {\n",
              "      background-color: #3B4455;\n",
              "      fill: #D2E3FC;\n",
              "    }\n",
              "\n",
              "    [theme=dark] .colab-df-convert:hover {\n",
              "      background-color: #434B5C;\n",
              "      box-shadow: 0px 1px 3px 1px rgba(0, 0, 0, 0.15);\n",
              "      filter: drop-shadow(0px 1px 2px rgba(0, 0, 0, 0.3));\n",
              "      fill: #FFFFFF;\n",
              "    }\n",
              "  </style>\n",
              "\n",
              "      <script>\n",
              "        const buttonEl =\n",
              "          document.querySelector('#df-494643a0-0721-4bad-8cfa-df85617b1e92 button.colab-df-convert');\n",
              "        buttonEl.style.display =\n",
              "          google.colab.kernel.accessAllowed ? 'block' : 'none';\n",
              "\n",
              "        async function convertToInteractive(key) {\n",
              "          const element = document.querySelector('#df-494643a0-0721-4bad-8cfa-df85617b1e92');\n",
              "          const dataTable =\n",
              "            await google.colab.kernel.invokeFunction('convertToInteractive',\n",
              "                                                     [key], {});\n",
              "          if (!dataTable) return;\n",
              "\n",
              "          const docLinkHtml = 'Like what you see? Visit the ' +\n",
              "            '<a target=\"_blank\" href=https://colab.research.google.com/notebooks/data_table.ipynb>data table notebook</a>'\n",
              "            + ' to learn more about interactive tables.';\n",
              "          element.innerHTML = '';\n",
              "          dataTable['output_type'] = 'display_data';\n",
              "          await google.colab.output.renderOutput(dataTable, element);\n",
              "          const docLink = document.createElement('div');\n",
              "          docLink.innerHTML = docLinkHtml;\n",
              "          element.appendChild(docLink);\n",
              "        }\n",
              "      </script>\n",
              "    </div>\n",
              "  </div>\n",
              "  "
            ]
          },
          "metadata": {},
          "execution_count": 38
        }
      ]
    },
    {
      "cell_type": "code",
      "source": [
        "x = new_df.drop(\"TARGET_5Yrs\", axis = 1) # axis = 1 removes column and axis = 0 removes row from dataset\n",
        "y = new_df[\"TARGET_5Yrs\"]\n",
        "\n",
        "x_train, x_test, y_train, y_test = train_test_split(x,y,train_size=0.9,test_size = 0.1, random_state=1)\n",
        "\n",
        "print('x shape : ', x.shape)\n",
        "print('x train shape and x test shape : ' ,x_train.shape, x_test.shape)\n",
        "print('y shape : ', y.shape)\n",
        "print('y train shape and y test shape : ' ,y_train.shape, y_test.shape)\n",
        "print('y shape_mean y train shape_mean and y test shape_mean : ' ,y.mean(), y_train.mean(), y_test.mean())"
      ],
      "metadata": {
        "colab": {
          "base_uri": "https://localhost:8080/"
        },
        "id": "D2U4KjcWtiE5",
        "outputId": "f33eb8ce-fb92-485b-e6ce-a4fa009671cc"
      },
      "execution_count": null,
      "outputs": [
        {
          "output_type": "stream",
          "name": "stdout",
          "text": [
            "x shape :  (1340, 19)\n",
            "x train shape and x test shape :  (1206, 19) (134, 19)\n",
            "y shape :  (1340,)\n",
            "y train shape and y test shape :  (1206,) (134,)\n",
            "y shape_mean y train shape_mean and y test shape_mean :  0.6201492537313433 0.6185737976782753 0.6343283582089553\n"
          ]
        }
      ]
    },
    {
      "cell_type": "code",
      "source": [
        "x_train, x_test, y_train, y_test = train_test_split(x,y,train_size=0.9,test_size = 0.1, stratify=y)"
      ],
      "metadata": {
        "id": "UHWv1bXJ-XdX"
      },
      "execution_count": null,
      "outputs": []
    },
    {
      "cell_type": "code",
      "source": [
        "print(y.mean(), y_train.mean(), y_test.mean())"
      ],
      "metadata": {
        "colab": {
          "base_uri": "https://localhost:8080/"
        },
        "id": "XGsR3b1e-sl6",
        "outputId": "2fb8f2ba-4955-460e-882d-183db25efdb8"
      },
      "execution_count": null,
      "outputs": [
        {
          "output_type": "stream",
          "name": "stdout",
          "text": [
            "0.6201492537313433 0.6202321724709784 0.6194029850746269\n"
          ]
        }
      ]
    },
    {
      "cell_type": "code",
      "source": [
        "print(x.mean(), x_train.mean(), x_test.mean())"
      ],
      "metadata": {
        "colab": {
          "base_uri": "https://localhost:8080/"
        },
        "id": "bBRnWzTa-1Eb",
        "outputId": "6cce1f66-dbaf-449c-80f5-78b0f7fcd46d"
      },
      "execution_count": null,
      "outputs": [
        {
          "output_type": "stream",
          "name": "stdout",
          "text": [
            "GP         60.414179\n",
            "MIN        17.624627\n",
            "PTS         6.801493\n",
            "FGM         2.629104\n",
            "FGA         5.885299\n",
            "FG%        44.169403\n",
            "3P Made     0.247612\n",
            "3PA         0.779179\n",
            "3P%        19.308126\n",
            "FTM         1.297687\n",
            "FTA         1.821940\n",
            "FT%        70.300299\n",
            "OREB        1.009403\n",
            "DREB        2.025746\n",
            "REB         3.034478\n",
            "AST         1.550522\n",
            "STL         0.618507\n",
            "BLK         0.368582\n",
            "TOV         1.193582\n",
            "dtype: float64 GP         60.300995\n",
            "MIN        17.590381\n",
            "PTS         6.746352\n",
            "FGM         2.608458\n",
            "FGA         5.841211\n",
            "FG%        44.117496\n",
            "3P Made     0.242371\n",
            "3PA         0.768159\n",
            "3P%        19.206197\n",
            "FTM         1.289221\n",
            "FTA         1.812355\n",
            "FT%        70.275373\n",
            "OREB        1.015257\n",
            "DREB        2.027944\n",
            "REB         3.042537\n",
            "AST         1.536816\n",
            "STL         0.616086\n",
            "BLK         0.369154\n",
            "TOV         1.184080\n",
            "dtype: float64 GP         61.432836\n",
            "MIN        17.932836\n",
            "PTS         7.297761\n",
            "FGM         2.814925\n",
            "FGA         6.282090\n",
            "FG%        44.636567\n",
            "3P Made     0.294776\n",
            "3PA         0.878358\n",
            "3P%        20.225494\n",
            "FTM         1.373881\n",
            "FTA         1.908209\n",
            "FT%        70.524627\n",
            "OREB        0.956716\n",
            "DREB        2.005970\n",
            "REB         2.961940\n",
            "AST         1.673881\n",
            "STL         0.640299\n",
            "BLK         0.363433\n",
            "TOV         1.279104\n",
            "dtype: float64\n"
          ]
        }
      ]
    },
    {
      "cell_type": "code",
      "source": [
        "x_train, x_test, y_train, y_test = train_test_split(x,y,train_size=0.9,test_size = 0.1,random_state=1, stratify=y)"
      ],
      "metadata": {
        "id": "9Ttdv48v_Kh-"
      },
      "execution_count": null,
      "outputs": []
    },
    {
      "cell_type": "code",
      "source": [
        "print(x_train.mean(), x_test.mean(),x.mean())"
      ],
      "metadata": {
        "colab": {
          "base_uri": "https://localhost:8080/"
        },
        "id": "70TV7mB7_AdF",
        "outputId": "51928fba-a188-4b24-dc9b-c962ec9b1e4c"
      },
      "execution_count": null,
      "outputs": [
        {
          "output_type": "stream",
          "name": "stdout",
          "text": [
            "GP         60.521559\n",
            "MIN        17.752736\n",
            "PTS         6.866169\n",
            "FGM         2.651410\n",
            "FGA         5.946517\n",
            "FG%        44.053566\n",
            "3P Made     0.251161\n",
            "3PA         0.789635\n",
            "3P%        19.549902\n",
            "FTM         1.312935\n",
            "FTA         1.842123\n",
            "FT%        70.296020\n",
            "OREB        1.011111\n",
            "DREB        2.035406\n",
            "REB         3.045854\n",
            "AST         1.573715\n",
            "STL         0.626202\n",
            "BLK         0.372056\n",
            "TOV         1.207380\n",
            "dtype: float64 GP         59.447761\n",
            "MIN        16.471642\n",
            "PTS         6.219403\n",
            "FGM         2.428358\n",
            "FGA         5.334328\n",
            "FG%        45.211940\n",
            "3P Made     0.215672\n",
            "3PA         0.685075\n",
            "3P%        17.132150\n",
            "FTM         1.160448\n",
            "FTA         1.640299\n",
            "FT%        70.338806\n",
            "OREB        0.994030\n",
            "DREB        1.938806\n",
            "REB         2.932090\n",
            "AST         1.341791\n",
            "STL         0.549254\n",
            "BLK         0.337313\n",
            "TOV         1.069403\n",
            "dtype: float64 GP         60.414179\n",
            "MIN        17.624627\n",
            "PTS         6.801493\n",
            "FGM         2.629104\n",
            "FGA         5.885299\n",
            "FG%        44.169403\n",
            "3P Made     0.247612\n",
            "3PA         0.779179\n",
            "3P%        19.308126\n",
            "FTM         1.297687\n",
            "FTA         1.821940\n",
            "FT%        70.300299\n",
            "OREB        1.009403\n",
            "DREB        2.025746\n",
            "REB         3.034478\n",
            "AST         1.550522\n",
            "STL         0.618507\n",
            "BLK         0.368582\n",
            "TOV         1.193582\n",
            "dtype: float64\n"
          ]
        }
      ]
    },
    {
      "cell_type": "markdown",
      "source": [
        "# Binarisation of input"
      ],
      "metadata": {
        "id": "CTdAFfaUYJDe"
      }
    },
    {
      "cell_type": "code",
      "source": [
        "import matplotlib.pyplot as plt"
      ],
      "metadata": {
        "id": "RpFSrk7B_oM_"
      },
      "execution_count": null,
      "outputs": []
    },
    {
      "cell_type": "code",
      "source": [
        "plt.plot(x_test.T, '*')\n",
        "plt.xticks(rotation='vertical')\n",
        "plt.show()"
      ],
      "metadata": {
        "colab": {
          "base_uri": "https://localhost:8080/",
          "height": 316
        },
        "id": "vrdLljjbY8os",
        "outputId": "bb8ae140-86da-4588-d765-11db5674d80c"
      },
      "execution_count": null,
      "outputs": [
        {
          "output_type": "display_data",
          "data": {
            "text/plain": [
              "<Figure size 432x288 with 1 Axes>"
            ],
            "image/png": "[encoded data removed]"
          },
          "metadata": {
            "needs_background": "light"
          }
        },
        {
          "output_type": "execute_result",
          "data": {
            "text/plain": [
              "\"\\nplt.plot(x_train.T)\\nplt.xticks(rotation='vertical')\\nplt.show()\\n\""
            ],
            "application/vnd.google.colaboratory.intrinsic+json": {
              "type": "string"
            }
          },
          "metadata": {},
          "execution_count": 46
        }
      ]
    },
    {
      "cell_type": "code",
      "source": [
        "x_binary_train = x_train.apply(pd.cut, bins = 2, labels = [1,0])"
      ],
      "metadata": {
        "id": "EgsTM7K2u5oo"
      },
      "execution_count": null,
      "outputs": []
    },
    {
      "cell_type": "code",
      "source": [
        "x_binary_test = x_test.apply(pd.cut, bins = 2, labels = [1,0])"
      ],
      "metadata": {
        "id": "T7FLWDwoAFjN"
      },
      "execution_count": null,
      "outputs": []
    },
    {
      "cell_type": "code",
      "source": [
        "x_binary_test = x_binary_test.values\n",
        "x_binary_train = x_binary_train.values"
      ],
      "metadata": {
        "id": "w8ftfCsGcdau"
      },
      "execution_count": null,
      "outputs": []
    },
    {
      "cell_type": "code",
      "source": [
        "type(x_binary_test)"
      ],
      "metadata": {
        "colab": {
          "base_uri": "https://localhost:8080/"
        },
        "id": "OOz9U2b-djPj",
        "outputId": "d0b04a90-fb32-4401-bc77-a8ab427c4d3c"
      },
      "execution_count": null,
      "outputs": [
        {
          "output_type": "execute_result",
          "data": {
            "text/plain": [
              "numpy.ndarray"
            ]
          },
          "metadata": {},
          "execution_count": 54
        }
      ]
    },
    {
      "cell_type": "markdown",
      "source": [
        "# MP Neuron Model"
      ],
      "metadata": {
        "id": "KobxJtqbOWir"
      }
    },
    {
      "cell_type": "code",
      "source": [
        "for b in range(x_binary_train.shape[1] + 1):\n",
        "    y_pred_train = []\n",
        "    accurate_rows = 0\n",
        "\n",
        "    for x, y in zip(x_binary_train, y_train):\n",
        "        y_pred = (np.sum(x) >= b)\n",
        "        y_pred_train.append(y_pred)\n",
        "        accurate_rows += (y == y_pred)\n",
        "\n",
        "    print(b, accurate_rows, accurate_rows/x_binary_train.shape[0])"
      ],
      "metadata": {
        "colab": {
          "base_uri": "https://localhost:8080/"
        },
        "id": "f1AEkguXfZEp",
        "outputId": "13d8cdef-c1aa-4fa6-d881-156f54e4b622"
      },
      "execution_count": null,
      "outputs": [
        {
          "output_type": "stream",
          "name": "stdout",
          "text": [
            "0 748 0.6202321724709784\n",
            "1 748 0.6202321724709784\n",
            "2 748 0.6202321724709784\n",
            "3 748 0.6202321724709784\n",
            "4 748 0.6202321724709784\n",
            "5 747 0.6194029850746269\n",
            "6 744 0.6169154228855721\n",
            "7 741 0.6144278606965174\n",
            "8 734 0.6086235489220564\n",
            "9 720 0.5970149253731343\n",
            "10 707 0.5862354892205639\n",
            "11 687 0.5696517412935324\n",
            "12 669 0.554726368159204\n",
            "13 649 0.5381426202321725\n",
            "14 627 0.5199004975124378\n",
            "15 594 0.4925373134328358\n",
            "16 565 0.4684908789386401\n",
            "17 453 0.3756218905472637\n",
            "18 391 0.324212271973466\n",
            "19 446 0.36981757877280264\n"
          ]
        }
      ]
    },
    {
      "cell_type": "markdown",
      "source": [
        "# MP Neuron Class"
      ],
      "metadata": {
        "id": "ICXl5jzphU2r"
      }
    },
    {
      "cell_type": "code",
      "source": [
        "class MPNeuron:\n",
        "    \n",
        "    def __init__(self):\n",
        "        self.b = None\n",
        "    \n",
        "    def model(self, x):\n",
        "        return(sum(x) >= self.b)\n",
        "    \n",
        "    def predict(self, X):\n",
        "        Y = []\n",
        "        for x in X:\n",
        "            result = self.model(x)\n",
        "            Y.append(result)\n",
        "        return np.array(Y)\n",
        "    \n",
        "    def fit(self, X, Y):\n",
        "        accuracy = {}\n",
        "        \n",
        "        for b in range(X.shape[1] + 1):\n",
        "            self.b = b\n",
        "            Y_pred = self.predict(X)\n",
        "            accuracy[b] = accuracy_score(Y_pred, Y)\n",
        "        \n",
        "        best_b = max(accuracy,key = accuracy.get)\n",
        "        self.b = best_b\n",
        "        \n",
        "        print('Optimal Value of  is', best_b)\n",
        "        print('Highest accuracy is',accuracy[best_b])"
      ],
      "metadata": {
        "id": "IZ1XuVOzOOua"
      },
      "execution_count": null,
      "outputs": []
    },
    {
      "cell_type": "code",
      "source": [
        "mpNeuron = MPNeuron()\n",
        "mpNeuron.fit(x_binary_train, y_train)"
      ],
      "metadata": {
        "id": "6eqQTxQyOeHm",
        "colab": {
          "base_uri": "https://localhost:8080/"
        },
        "outputId": "f30eda62-f987-40ca-d85b-51f8f7c99a27"
      },
      "execution_count": null,
      "outputs": [
        {
          "output_type": "stream",
          "name": "stdout",
          "text": [
            "Optimal Value of  is 0\n",
            "Highest accuracy is 0.6202321724709784\n"
          ]
        }
      ]
    },
    {
      "cell_type": "code",
      "source": [
        "y_test_pred = mpNeuron.predict(x_binary_test)\n",
        "accuracy_test = accuracy_score(y_test_pred, y_test)"
      ],
      "metadata": {
        "id": "iikyLpsJhsc4"
      },
      "execution_count": null,
      "outputs": []
    },
    {
      "cell_type": "code",
      "source": [
        "print(accuracy_test)"
      ],
      "metadata": {
        "colab": {
          "base_uri": "https://localhost:8080/"
        },
        "id": "pzjqCs_Ch-xW",
        "outputId": "bf5bdb60-e331-4741-a6d9-0794ed6dd723"
      },
      "execution_count": null,
      "outputs": [
        {
          "output_type": "stream",
          "name": "stdout",
          "text": [
            "0.6194029850746269\n"
          ]
        }
      ]
    },
    {
      "cell_type": "markdown",
      "source": [
        "# Perceptron Model"
      ],
      "metadata": {
        "id": "o4UoKJF_OhC2"
      }
    },
    {
      "cell_type": "code",
      "source": [
        "class Perceptron:\n",
        "    \n",
        "    def __init__(self, learning_rate=0.01, iterations = 1000):\n",
        "        self.bias = None\n",
        "        self.weights = None\n",
        "        self.activation_func = self.unit_step_func\n",
        "        self.lr = learning_rate\n",
        "        self.iters = iterations\n",
        "        \n",
        "    def predict(self, X):\n",
        "        linear_output = np.dot(X, self.weights) + self.bias\n",
        "        y_predicted = self.activation_func(linear_output)\n",
        "        return y_predicted\n",
        "        \n",
        "    def unit_step_func(self, x):\n",
        "        return np.where(x>=0,1,0)\n",
        "    \n",
        "    def fit(self, X , y):\n",
        "        #X is MxN    M rows/samples and N features\n",
        "        n_samples, n_features = X.shape\n",
        "        \n",
        "        #init weights\n",
        "        self.weights = np.zeros(n_features)\n",
        "        self.bias = 0\n",
        "        \n",
        "        #ensure that y is 0 or 1\n",
        "        y_ = np.array([1 if i>0 else 0 for i in y])\n",
        "        \n",
        "        \n",
        "        #we know that percepron model will converge in finite iterations\n",
        "        for itr in range(self.iters):\n",
        "            for indx, x_i in enumerate(X):\n",
        "                linear_output = np.dot(x_i, self.weights) + self.bias\n",
        "                y_predicted = self.activation_func(linear_output)\n",
        "                \n",
        "                #we need to update the weights\n",
        "                # W = W + W'\n",
        "                # W' = lr * (y - y_pred) * x\n",
        "                \n",
        "                update = self.lr * (y_[indx] - y_predicted)\n",
        "                self.weights += update * x_i\n",
        "                self.bias += update"
      ],
      "metadata": {
        "id": "JZOHlkLGOfjA"
      },
      "execution_count": null,
      "outputs": []
    },
    {
      "cell_type": "code",
      "source": [
        "#x_train, x_test, y_train, y_test\n",
        "#convert x_train, x_test into arrays\n",
        "x_train = x_train.values\n",
        "print(type(x_train))\n",
        "x_test = x_test.values\n",
        "print(type(x_test))"
      ],
      "metadata": {
        "id": "aDX6aNDpOu6H",
        "colab": {
          "base_uri": "https://localhost:8080/"
        },
        "outputId": "26d4c88b-b8f1-47da-e2a4-3cc2a540a944"
      },
      "execution_count": null,
      "outputs": [
        {
          "output_type": "stream",
          "name": "stdout",
          "text": [
            "<class 'numpy.ndarray'>\n",
            "<class 'numpy.ndarray'>\n"
          ]
        }
      ]
    },
    {
      "cell_type": "code",
      "source": [
        "def accuracy(y_testing, y_pred):\n",
        "    accuracy = np.sum(y_testing == y_pred) / len(y_testing)\n",
        "    return accuracy"
      ],
      "metadata": {
        "id": "Tpp_PoTsOx0l"
      },
      "execution_count": null,
      "outputs": []
    },
    {
      "cell_type": "code",
      "source": [
        "p = Perceptron(learning_rate = 0.5, iterations=500)\n",
        "p.fit(x_train,y_train)\n",
        "prediction = p.predict(x_test)\n",
        "print(\"Perceptron Accuracy: \",accuracy(y_test, prediction))"
      ],
      "metadata": {
        "id": "Sz2cuQSTPcBl",
        "colab": {
          "base_uri": "https://localhost:8080/"
        },
        "outputId": "3299db17-b358-47a0-fc64-94dbd2e59d50"
      },
      "execution_count": null,
      "outputs": [
        {
          "output_type": "stream",
          "name": "stdout",
          "text": [
            "Perceptron Accuracy:  0.4701492537313433\n"
          ]
        }
      ]
    }
  ]
}