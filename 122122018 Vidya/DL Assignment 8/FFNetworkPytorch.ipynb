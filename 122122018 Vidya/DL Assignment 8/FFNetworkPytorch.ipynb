{
 "cells": [
  {
   "cell_type": "code",
   "execution_count": 1,
   "metadata": {
    "cellView": "both",
    "colab": {},
    "colab_type": "code",
    "id": "zi3i20NTF2LY"
   },
   "outputs": [],
   "source": [
    "import numpy as np\n",
    "import math\n",
    "import matplotlib.pyplot as plt\n",
    "import matplotlib.colors\n",
    "import pandas as pd\n",
    "from sklearn.model_selection import train_test_split\n",
    "from sklearn.metrics import accuracy_score, mean_squared_error, log_loss\n",
    "from tqdm import tqdm_notebook \n",
    "import seaborn as sns\n",
    "import time\n",
    "from IPython.display import HTML\n",
    "import warnings\n",
    "warnings.filterwarnings('ignore')\n",
    "\n",
    "from sklearn.preprocessing import OneHotEncoder\n",
    "from sklearn.datasets import make_moons\n",
    "\n",
    "import torch"
   ]
  },
  {
   "cell_type": "code",
   "execution_count": 2,
   "metadata": {
    "cellView": "both",
    "colab": {
     "base_uri": "https://localhost:8080/",
     "height": 36
    },
    "colab_type": "code",
    "id": "S-2v19fdGBpV",
    "outputId": "65c59555-6450-495b-9677-d97bc67c6870"
   },
   "outputs": [
    {
     "data": {
      "text/plain": [
       "<torch._C.Generator at 0x22848da7890>"
      ]
     },
     "execution_count": 2,
     "metadata": {},
     "output_type": "execute_result"
    }
   ],
   "source": [
    "torch.manual_seed(0)"
   ]
  },
  {
   "cell_type": "code",
   "execution_count": 3,
   "metadata": {
    "cellView": "both",
    "colab": {},
    "colab_type": "code",
    "id": "KaNnf16vGFC8"
   },
   "outputs": [],
   "source": [
    "my_cmap = matplotlib.colors.LinearSegmentedColormap.from_list(\"\", [\"red\",\"yellow\",\"green\"])"
   ]
  },
  {
   "cell_type": "markdown",
   "metadata": {
    "colab_type": "text",
    "id": "t3h91SrKGem4"
   },
   "source": [
    "## Generate Dataset"
   ]
  },
  {
   "cell_type": "code",
   "execution_count": 29,
   "metadata": {
    "colab": {
     "base_uri": "https://localhost:8080/",
     "height": 36
    },
    "colab_type": "code",
    "id": "7CiU06B-GG-6",
    "outputId": "78339ccb-d62d-4673-9455-c7d74c3e86b8"
   },
   "outputs": [
    {
     "name": "stdout",
     "output_type": "stream",
     "text": [
      "(5000, 2) (5000,)\n"
     ]
    }
   ],
   "source": [
    "data, labels = make_moons(n_samples=5000, random_state=5)\n",
    "print(data.shape, labels.shape)"
   ]
  },
  {
   "cell_type": "code",
   "execution_count": 30,
   "metadata": {
    "colab": {
     "base_uri": "https://localhost:8080/",
     "height": 269
    },
    "colab_type": "code",
    "id": "XOOGMkBAGIMy",
    "outputId": "a488b50f-f902-4739-a946-6e25b3e18388"
   },
   "outputs": [
    {
     "data": {
      "image/png": "[encoded data removed]",
      "text/plain": [
       "<Figure size 432x288 with 1 Axes>"
      ]
     },
     "metadata": {
      "needs_background": "light"
     },
     "output_type": "display_data"
    }
   ],
   "source": [
    "plt.scatter(data[:,0], data[:,1], c=labels, cmap=my_cmap)\n",
    "plt.show()"
   ]
  },
  {
   "cell_type": "code",
   "execution_count": 6,
   "metadata": {
    "colab": {
     "base_uri": "https://localhost:8080/",
     "height": 36
    },
    "colab_type": "code",
    "id": "Eqblj3GsGMx6",
    "outputId": "7e1ba771-5366-44c0-d9d8-8d2862a468a9"
   },
   "outputs": [
    {
     "name": "stdout",
     "output_type": "stream",
     "text": [
      "(3750, 2) (1250, 2) (5000,)\n"
     ]
    }
   ],
   "source": [
    "X_train, X_val, Y_train, Y_val = train_test_split(data, labels, stratify=labels, random_state=0)\n",
    "print(X_train.shape, X_val.shape, labels.shape)"
   ]
  },
  {
   "cell_type": "markdown",
   "metadata": {
    "colab_type": "text",
    "id": "LnPj_IrhGiYe"
   },
   "source": [
    "## Using torch tensors and autograd"
   ]
  },
  {
   "cell_type": "code",
   "execution_count": 7,
   "metadata": {
    "colab": {},
    "colab_type": "code",
    "id": "x3quRDoBOdvE"
   },
   "outputs": [],
   "source": [
    "X_train, Y_train, X_val, Y_val = map(torch.tensor, (X_train, Y_train, X_val, Y_val))"
   ]
  },
  {
   "cell_type": "code",
   "execution_count": 8,
   "metadata": {
    "colab": {
     "base_uri": "https://localhost:8080/",
     "height": 36
    },
    "colab_type": "code",
    "id": "S8gNaribO9aB",
    "outputId": "f34fe2f4-896c-4c85-d046-a2d0ec07e1b7"
   },
   "outputs": [
    {
     "name": "stdout",
     "output_type": "stream",
     "text": [
      "torch.Size([3750, 2]) torch.Size([3750])\n"
     ]
    }
   ],
   "source": [
    "print(X_train.shape, Y_train.shape)"
   ]
  },
  {
   "cell_type": "code",
   "execution_count": 9,
   "metadata": {
    "colab": {},
    "colab_type": "code",
    "id": "Z57ivURJOqB-"
   },
   "outputs": [],
   "source": [
    "def model(x):\n",
    "  a1 = torch.matmul(x, weights1) + bias1 # (N, 2) x (2, 2) -> (N, 2)\n",
    "  h1 = a1.sigmoid() # (N, 2)\n",
    "  a2 = torch.matmul(h1, weights2) + bias2 # (N, 2) x (2, 4) -> (N, 4)\n",
    "  h2 = a2.exp()/a2.exp().sum(-1).unsqueeze(-1) # (N, 4)\n",
    "  return h2"
   ]
  },
  {
   "cell_type": "code",
   "execution_count": 10,
   "metadata": {
    "colab": {
     "base_uri": "https://localhost:8080/",
     "height": 36
    },
    "colab_type": "code",
    "id": "XWuBSu0vROfQ",
    "outputId": "e7452067-f650-4287-fa63-aee91e6b7107"
   },
   "outputs": [
    {
     "data": {
      "text/plain": [
       "0.5"
      ]
     },
     "execution_count": 10,
     "metadata": {},
     "output_type": "execute_result"
    }
   ],
   "source": [
    "y_hat = torch.tensor([[0.1, 0.2, 0.3, 0.4], [0.8, 0.1, 0.05, 0.05]])\n",
    "y = torch.tensor([2, 0])\n",
    "\n",
    "(-y_hat[range(y_hat.shape[0]), y].log()).mean().item()\n",
    "\n",
    "(torch.argmax(y_hat, dim=1) == y).float().mean().item()"
   ]
  },
  {
   "cell_type": "code",
   "execution_count": 11,
   "metadata": {
    "colab": {},
    "colab_type": "code",
    "id": "K0DJId7vR7aJ"
   },
   "outputs": [],
   "source": [
    "def loss_fn(y_hat, y):\n",
    "  return -(y_hat[range(y.shape[0]), y].log()).mean()"
   ]
  },
  {
   "cell_type": "code",
   "execution_count": 12,
   "metadata": {
    "colab": {},
    "colab_type": "code",
    "id": "vZa-xupaa2i3"
   },
   "outputs": [],
   "source": [
    "def accuracy(y_hat, y):\n",
    "  pred = torch.argmax(y_hat, dim=1)\n",
    "  return (pred == y).float().mean()"
   ]
  },
  {
   "cell_type": "code",
   "execution_count": 13,
   "metadata": {
    "colab": {
     "base_uri": "https://localhost:8080/",
     "height": 307
    },
    "colab_type": "code",
    "id": "eGNj27K0YcO_",
    "outputId": "1471944d-e972-46de-b3a7-d13d28d95d10"
   },
   "outputs": [
    {
     "data": {
      "image/png": "[encoded data removed]",
      "text/plain": [
       "<Figure size 432x288 with 1 Axes>"
      ]
     },
     "metadata": {
      "needs_background": "light"
     },
     "output_type": "display_data"
    },
    {
     "name": "stdout",
     "output_type": "stream",
     "text": [
      "Loss before training 1.939819574356079\n",
      "Loss after training 0.22541740536689758\n"
     ]
    }
   ],
   "source": [
    "torch.manual_seed(0)\n",
    "weights1 = torch.randn(2, 2) / math.sqrt(2)\n",
    "weights1.requires_grad_()\n",
    "bias1 = torch.zeros(2, requires_grad=True)\n",
    "\n",
    "weights2 = torch.randn(2, 4) / math.sqrt(2)\n",
    "weights2.requires_grad_()\n",
    "bias2 = torch.zeros(4, requires_grad=True)\n",
    "\n",
    "learning_rate = 0.2\n",
    "epochs = 10000\n",
    "\n",
    "X_train = X_train.float()\n",
    "Y_train = Y_train.long()\n",
    "\n",
    "loss_arr = []\n",
    "acc_arr = []\n",
    "\n",
    "for epoch in range(epochs):\n",
    "  y_hat = model(X_train)\n",
    "  loss = loss_fn(y_hat, Y_train)\n",
    "  loss.backward()\n",
    "  loss_arr.append(loss.item())\n",
    "  acc_arr.append(accuracy(y_hat, Y_train))\n",
    "\n",
    "  with torch.no_grad():\n",
    "    weights1 -= weights1.grad * learning_rate\n",
    "    bias1 -= bias1.grad * learning_rate\n",
    "    weights2 -= weights2.grad * learning_rate\n",
    "    bias2 -= bias2.grad * learning_rate\n",
    "    weights1.grad.zero_()\n",
    "    bias1.grad.zero_()\n",
    "    weights2.grad.zero_()\n",
    "    bias2.grad.zero_()\n",
    "\n",
    "plt.plot(loss_arr, 'r-')\n",
    "plt.plot(acc_arr, 'b-')\n",
    "plt.show()\n",
    "print('Loss before training', loss_arr[0])\n",
    "print('Loss after training', loss_arr[-1])"
   ]
  },
  {
   "cell_type": "markdown",
   "metadata": {
    "colab_type": "text",
    "id": "1fYBscrQJvyr"
   },
   "source": [
    "## Using NN.Functional"
   ]
  },
  {
   "cell_type": "code",
   "execution_count": 14,
   "metadata": {
    "colab": {},
    "colab_type": "code",
    "id": "PH5t0Tvg2MVq"
   },
   "outputs": [],
   "source": [
    "import torch.nn.functional as F"
   ]
  },
  {
   "cell_type": "code",
   "execution_count": 15,
   "metadata": {
    "colab": {
     "base_uri": "https://localhost:8080/",
     "height": 307
    },
    "colab_type": "code",
    "id": "R7CMk4w52S5x",
    "outputId": "b99e7667-e097-4d38-914e-5ab238227aa8"
   },
   "outputs": [
    {
     "data": {
      "image/png": "[encoded data removed]",
      "text/plain": [
       "<Figure size 432x288 with 1 Axes>"
      ]
     },
     "metadata": {
      "needs_background": "light"
     },
     "output_type": "display_data"
    },
    {
     "name": "stdout",
     "output_type": "stream",
     "text": [
      "Loss before training 1.494810700416565\n",
      "Loss after training 0.8484799861907959\n"
     ]
    }
   ],
   "source": [
    "torch.manual_seed(0)\n",
    "weights1 = torch.randn(2, 2) / math.sqrt(2)\n",
    "weights1.requires_grad_()\n",
    "bias1 = torch.zeros(2, requires_grad=True)\n",
    "\n",
    "weights2 = torch.randn(2, 4) / math.sqrt(2)\n",
    "weights2.requires_grad_()\n",
    "bias2 = torch.zeros(4, requires_grad=True)\n",
    "\n",
    "learning_rate = 0.2\n",
    "epochs = 10000\n",
    "\n",
    "loss_arr = []\n",
    "acc_arr = []\n",
    "\n",
    "for epoch in range(epochs):\n",
    "  y_hat = model(X_train)\n",
    "  loss = F.cross_entropy(y_hat, Y_train)\n",
    "  loss.backward()\n",
    "  loss_arr.append(loss.item())\n",
    "  acc_arr.append(accuracy(y_hat, Y_train))\n",
    "\n",
    "  with torch.no_grad():\n",
    "    weights1 -= weights1.grad * learning_rate\n",
    "    bias1 -= bias1.grad * learning_rate\n",
    "    weights2 -= weights2.grad * learning_rate\n",
    "    bias2 -= bias2.grad * learning_rate\n",
    "    weights1.grad.zero_()\n",
    "    bias1.grad.zero_()\n",
    "    weights2.grad.zero_()\n",
    "    bias2.grad.zero_()\n",
    "\n",
    "plt.plot(loss_arr, 'r-')\n",
    "plt.plot(acc_arr, 'b-')\n",
    "plt.show()\n",
    "print('Loss before training', loss_arr[0])\n",
    "print('Loss after training', loss_arr[-1])"
   ]
  },
  {
   "cell_type": "markdown",
   "metadata": {
    "colab_type": "text",
    "id": "TeLqKpJMKNf_"
   },
   "source": [
    "## Using NN.Parameter"
   ]
  },
  {
   "cell_type": "code",
   "execution_count": 16,
   "metadata": {
    "colab": {},
    "colab_type": "code",
    "id": "YTi--oeE9IMn"
   },
   "outputs": [],
   "source": [
    "import torch.nn as nn"
   ]
  },
  {
   "cell_type": "code",
   "execution_count": 17,
   "metadata": {
    "colab": {},
    "colab_type": "code",
    "id": "5-lao9OA3Buw"
   },
   "outputs": [],
   "source": [
    "class FirstNetwork(nn.Module):\n",
    "  \n",
    "  def __init__(self):\n",
    "    super().__init__()\n",
    "    torch.manual_seed(0)\n",
    "    self.weights1 = nn.Parameter(torch.randn(2, 2) / math.sqrt(2))\n",
    "    self.bias1 = nn.Parameter(torch.zeros(2))\n",
    "    self.weights2 = nn.Parameter(torch.randn(2, 4) / math.sqrt(2))\n",
    "    self.bias2 = nn.Parameter(torch.zeros(4))\n",
    "    \n",
    "  def forward(self, X):\n",
    "    a1 = torch.matmul(X, self.weights1) + self.bias1\n",
    "    h1 = a1.sigmoid()\n",
    "    a2 = torch.matmul(h1, self.weights2) + self.bias2\n",
    "    h2 = a2.exp()/a2.exp().sum(-1).unsqueeze(-1)\n",
    "    return h2"
   ]
  },
  {
   "cell_type": "code",
   "execution_count": 18,
   "metadata": {
    "colab": {},
    "colab_type": "code",
    "id": "K4L4tDXA6Fju"
   },
   "outputs": [],
   "source": [
    "def fit(epochs = 1000, learning_rate = 1):\n",
    "  loss_arr = []\n",
    "  acc_arr = []\n",
    "  for epoch in range(epochs):\n",
    "    y_hat = fn(X_train)\n",
    "    loss = F.cross_entropy(y_hat, Y_train)\n",
    "    loss_arr.append(loss.item())\n",
    "    acc_arr.append(accuracy(y_hat, Y_train))\n",
    "\n",
    "    loss.backward()\n",
    "    with torch.no_grad():\n",
    "      for param in fn.parameters():\n",
    "        param -= learning_rate * param.grad\n",
    "      fn.zero_grad()\n",
    "        \n",
    "  plt.plot(loss_arr, 'r-')\n",
    "  plt.plot(acc_arr, 'b-')\n",
    "  plt.show()      \n",
    "  print('Loss before training', loss_arr[0])\n",
    "  print('Loss after training', loss_arr[-1])"
   ]
  },
  {
   "cell_type": "code",
   "execution_count": 19,
   "metadata": {
    "colab": {
     "base_uri": "https://localhost:8080/",
     "height": 307
    },
    "colab_type": "code",
    "id": "KkLjg3FS6V9c",
    "outputId": "090981d6-fa0e-4fd1-f5f4-caa6755b4a1a"
   },
   "outputs": [
    {
     "data": {
      "image/png": "[encoded data removed]",
      "text/plain": [
       "<Figure size 432x288 with 1 Axes>"
      ]
     },
     "metadata": {
      "needs_background": "light"
     },
     "output_type": "display_data"
    },
    {
     "name": "stdout",
     "output_type": "stream",
     "text": [
      "Loss before training 1.494810700416565\n",
      "Loss after training 0.8504118919372559\n"
     ]
    }
   ],
   "source": [
    "fn = FirstNetwork()\n",
    "fit()"
   ]
  },
  {
   "cell_type": "markdown",
   "metadata": {
    "colab_type": "text",
    "id": "wKP_tS8cKSv9"
   },
   "source": [
    "## Using NN.Linear and Optim"
   ]
  },
  {
   "cell_type": "code",
   "execution_count": 20,
   "metadata": {
    "colab": {},
    "colab_type": "code",
    "id": "zaS9b1OH9tBz"
   },
   "outputs": [],
   "source": [
    "class FirstNetwork_v1(nn.Module):\n",
    "  \n",
    "  def __init__(self):\n",
    "    super().__init__()\n",
    "    torch.manual_seed(0)\n",
    "    self.lin1 = nn.Linear(2, 2)\n",
    "    self.lin2 = nn.Linear(2, 4)\n",
    "    \n",
    "  def forward(self, X):\n",
    "    a1 = self.lin1(X)\n",
    "    h1 = a1.sigmoid()\n",
    "    a2 = self.lin2(h1)\n",
    "    h2 = a2.exp()/a2.exp().sum(-1).unsqueeze(-1)\n",
    "    return h2"
   ]
  },
  {
   "cell_type": "code",
   "execution_count": 21,
   "metadata": {
    "colab": {
     "base_uri": "https://localhost:8080/",
     "height": 307
    },
    "colab_type": "code",
    "id": "CpIaKmU1CAmd",
    "outputId": "f9938a78-3449-4216-db42-967425be5642"
   },
   "outputs": [
    {
     "data": {
      "image/png": "[encoded data removed]",
      "text/plain": [
       "<Figure size 432x288 with 1 Axes>"
      ]
     },
     "metadata": {
      "needs_background": "light"
     },
     "output_type": "display_data"
    },
    {
     "name": "stdout",
     "output_type": "stream",
     "text": [
      "Loss before training 1.3858063220977783\n",
      "Loss after training 0.8514581918716431\n"
     ]
    }
   ],
   "source": [
    "fn = FirstNetwork_v1()\n",
    "fit()"
   ]
  },
  {
   "cell_type": "code",
   "execution_count": 22,
   "metadata": {
    "colab": {},
    "colab_type": "code",
    "id": "Bnj532qNC0By"
   },
   "outputs": [],
   "source": [
    "from torch import optim"
   ]
  },
  {
   "cell_type": "code",
   "execution_count": 23,
   "metadata": {
    "colab": {},
    "colab_type": "code",
    "id": "rffjj0tZCEC0"
   },
   "outputs": [],
   "source": [
    "def fit_v1(epochs = 1000, learning_rate = 1):\n",
    "  loss_arr = []\n",
    "  acc_arr = []\n",
    "  opt = optim.SGD(fn.parameters(), lr=learning_rate)\n",
    "  \n",
    "  for epoch in range(epochs):\n",
    "    y_hat = fn(X_train)\n",
    "    loss = F.cross_entropy(y_hat, Y_train)\n",
    "    loss_arr.append(loss.item())\n",
    "    acc_arr.append(accuracy(y_hat, Y_train))\n",
    "\n",
    "    loss.backward()\n",
    "    opt.step()\n",
    "    opt.zero_grad()\n",
    "        \n",
    "  plt.plot(loss_arr, 'r-')\n",
    "  plt.plot(acc_arr, 'b-')\n",
    "  plt.show()      \n",
    "  print('Loss before training', loss_arr[0])\n",
    "  print('Loss after training', loss_arr[-1])"
   ]
  },
  {
   "cell_type": "code",
   "execution_count": 24,
   "metadata": {
    "colab": {
     "base_uri": "https://localhost:8080/",
     "height": 307
    },
    "colab_type": "code",
    "id": "FTiOuArHC9iD",
    "outputId": "24f04f88-f27d-4432-9b1c-7209db3b6ad6"
   },
   "outputs": [
    {
     "data": {
      "image/png": "[encoded data removed]",
      "text/plain": [
       "<Figure size 432x288 with 1 Axes>"
      ]
     },
     "metadata": {
      "needs_background": "light"
     },
     "output_type": "display_data"
    },
    {
     "name": "stdout",
     "output_type": "stream",
     "text": [
      "Loss before training 1.3858063220977783\n",
      "Loss after training 0.8514581918716431\n"
     ]
    }
   ],
   "source": [
    "fn = FirstNetwork_v1()\n",
    "fit_v1()"
   ]
  },
  {
   "cell_type": "markdown",
   "metadata": {
    "colab_type": "text",
    "id": "VonDcC3FKbSR"
   },
   "source": [
    "## Using NN.Sequential"
   ]
  },
  {
   "cell_type": "code",
   "execution_count": 25,
   "metadata": {
    "colab": {},
    "colab_type": "code",
    "id": "L-qr8a9cDdkm"
   },
   "outputs": [],
   "source": [
    "class FirstNetwork_v2(nn.Module):\n",
    "  \n",
    "  def __init__(self):\n",
    "    super().__init__()\n",
    "    torch.manual_seed(0)\n",
    "    self.net = nn.Sequential(\n",
    "        nn.Linear(2, 2), \n",
    "        nn.Sigmoid(), \n",
    "        nn.Linear(2, 4), \n",
    "        nn.Softmax()\n",
    "    )\n",
    "\n",
    "  def forward(self, X):\n",
    "    return self.net(X)"
   ]
  },
  {
   "cell_type": "code",
   "execution_count": 26,
   "metadata": {
    "colab": {
     "base_uri": "https://localhost:8080/",
     "height": 307
    },
    "colab_type": "code",
    "id": "xohfM0eSDdei",
    "outputId": "da528915-d56b-4b87-89cb-d4c2c12a051a"
   },
   "outputs": [
    {
     "data": {
      "image/png": "[encoded data removed]",
      "text/plain": [
       "<Figure size 432x288 with 1 Axes>"
      ]
     },
     "metadata": {
      "needs_background": "light"
     },
     "output_type": "display_data"
    },
    {
     "name": "stdout",
     "output_type": "stream",
     "text": [
      "Loss before training 1.3858063220977783\n",
      "Loss after training 0.8514581322669983\n"
     ]
    }
   ],
   "source": [
    "fn = FirstNetwork_v2()\n",
    "fit_v1()"
   ]
  },
  {
   "cell_type": "code",
   "execution_count": 27,
   "metadata": {},
   "outputs": [],
   "source": [
    "def fit_v2(x, y, model, opt, loss_fn, epochs = 1000):\n",
    "  \n",
    "  for epoch in range(epochs):\n",
    "    loss = loss_fn(model(x), y)\n",
    "\n",
    "    loss.backward()\n",
    "    opt.step()\n",
    "    opt.zero_grad()\n",
    "    \n",
    "  return loss.item()"
   ]
  },
  {
   "cell_type": "code",
   "execution_count": 28,
   "metadata": {},
   "outputs": [
    {
     "data": {
      "text/plain": [
       "0.8514581322669983"
      ]
     },
     "execution_count": 28,
     "metadata": {},
     "output_type": "execute_result"
    }
   ],
   "source": [
    "fn = FirstNetwork_v2()\n",
    "loss_fn = F.cross_entropy\n",
    "opt = optim.SGD(fn.parameters(), lr=1)\n",
    "fit_v2(X_train, Y_train, fn, opt, loss_fn)"
   ]
  },
  {
   "cell_type": "code",
   "execution_count": null,
   "metadata": {},
   "outputs": [],
   "source": []
  }
 ],
 "metadata": {
  "accelerator": "GPU",
  "colab": {
   "collapsed_sections": [],
   "name": "0422_FFNetworksWithPyTorch.ipynb",
   "provenance": [],
   "version": "0.3.2"
  },
  "kernelspec": {
   "display_name": "Python 3 (ipykernel)",
   "language": "python",
   "name": "python3"
  },
  "language_info": {
   "codemirror_mode": {
    "name": "ipython",
    "version": 3
   },
   "file_extension": ".py",
   "mimetype": "text/x-python",
   "name": "python",
   "nbconvert_exporter": "python",
   "pygments_lexer": "ipython3",
   "version": "3.10.6"
  }
 },
 "nbformat": 4,
 "nbformat_minor": 1
}
