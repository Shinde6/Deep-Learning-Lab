{
 "cells": [
  {
   "cell_type": "markdown",
   "metadata": {
    "colab_type": "text",
    "id": "_rYNWvKcALr7"
   },
   "source": [
    "# CNN( Pytorch)"
   ]
  },
  {
   "cell_type": "code",
   "execution_count": 1,
   "metadata": {
    "colab": {},
    "colab_type": "code",
    "id": "ebTDFe6qZOS6"
   },
   "outputs": [
    {
     "name": "stderr",
     "output_type": "stream",
     "text": [
      "C:\\Users\\marat\\AppData\\Local\\Programs\\Python\\Python310\\lib\\site-packages\\tqdm\\auto.py:22: TqdmWarning: IProgress not found. Please update jupyter and ipywidgets. See https://ipywidgets.readthedocs.io/en/stable/user_install.html\n",
      "  from .autonotebook import tqdm as notebook_tqdm\n"
     ]
    }
   ],
   "source": [
    "import torch\n",
    "import matplotlib.pyplot as plt\n",
    "import numpy as np\n",
    "import torchvision\n",
    "import torchvision.transforms as transforms\n",
    "import torch.nn as nn\n",
    "from torchsummary import summary"
   ]
  },
  {
   "cell_type": "markdown",
   "metadata": {
    "colab_type": "text",
    "id": "v3RZSgGLO9iY"
   },
   "source": [
    "## Data loading"
   ]
  },
  {
   "cell_type": "code",
   "execution_count": 2,
   "metadata": {
    "colab": {
     "base_uri": "https://localhost:8080/",
     "height": 34
    },
    "colab_type": "code",
    "id": "fOgFtnl2ZXsx",
    "outputId": "87932e00-ec3f-4275-e70f-951d53795a7e"
   },
   "outputs": [
    {
     "name": "stdout",
     "output_type": "stream",
     "text": [
      "Downloading https://www.cs.toronto.edu/~kriz/cifar-10-python.tar.gz to ./data\\cifar-10-python.tar.gz\n"
     ]
    },
    {
     "name": "stderr",
     "output_type": "stream",
     "text": [
      "100%|████████████████████████████████████████████████████████████████| 170498071/170498071 [03:40<00:00, 773281.47it/s]\n"
     ]
    },
    {
     "name": "stdout",
     "output_type": "stream",
     "text": [
      "Extracting ./data\\cifar-10-python.tar.gz to ./data\n"
     ]
    }
   ],
   "source": [
    "#setup training set\n",
    "#transforming the PIL Image to tensors\n",
    "trainset = torchvision.datasets.CIFAR10(root = \"./data\", train = True,\n",
    "                                         download = True, transform = transforms.ToTensor())"
   ]
  },
  {
   "cell_type": "code",
   "execution_count": 3,
   "metadata": {
    "colab": {},
    "colab_type": "code",
    "id": "tjT-1-Uba1n-"
   },
   "outputs": [],
   "source": [
    "classes = ('plane', 'car', 'bird', 'cat', 'deer', 'dog', 'frog', 'horse', 'ship', 'truck')"
   ]
  },
  {
   "cell_type": "code",
   "execution_count": 4,
   "metadata": {
    "colab": {},
    "colab_type": "code",
    "id": "dpU3_h-JaFi_"
   },
   "outputs": [],
   "source": [
    "#loading the training data from trainset\n",
    "trainloader = torch.utils.data.DataLoader(trainset, batch_size=4, shuffle = True)"
   ]
  },
  {
   "cell_type": "code",
   "execution_count": 5,
   "metadata": {
    "colab": {
     "base_uri": "https://localhost:8080/",
     "height": 70
    },
    "colab_type": "code",
    "id": "TGkggskRaXhz",
    "outputId": "b3b76de2-dcf8-4142-b689-16ccfd34811b"
   },
   "outputs": [
    {
     "name": "stdout",
     "output_type": "stream",
     "text": [
      "torch.Size([4, 3, 32, 32])\n",
      "torch.Size([3, 32, 32])\n",
      "7\n"
     ]
    }
   ],
   "source": [
    "#iterating into the data\n",
    "dataiter = iter(trainloader)\n",
    "images, labels = dataiter.next()\n",
    "\n",
    "print(images.shape) \n",
    "print(images[1].shape)\n",
    "print(labels[1].item()) "
   ]
  },
  {
   "cell_type": "markdown",
   "metadata": {
    "colab_type": "text",
    "id": "bQTsI03XPGId"
   },
   "source": [
    "## Visualise data"
   ]
  },
  {
   "cell_type": "code",
   "execution_count": 6,
   "metadata": {
    "colab": {
     "base_uri": "https://localhost:8080/",
     "height": 34
    },
    "colab_type": "code",
    "id": "RMLgzgf8PtN9",
    "outputId": "e3f4826c-9173-4dbc-d504-5541936c8d0c"
   },
   "outputs": [
    {
     "name": "stdout",
     "output_type": "stream",
     "text": [
      "<class 'torch.Tensor'>\n"
     ]
    }
   ],
   "source": [
    "img = images[1]\n",
    "print(type(img))"
   ]
  },
  {
   "cell_type": "code",
   "execution_count": 7,
   "metadata": {
    "colab": {
     "base_uri": "https://localhost:8080/",
     "height": 34
    },
    "colab_type": "code",
    "id": "mXeB_gG9QIIW",
    "outputId": "e955eecf-2e33-471a-a245-b1a04afb4feb"
   },
   "outputs": [
    {
     "name": "stdout",
     "output_type": "stream",
     "text": [
      "(3, 32, 32)\n"
     ]
    }
   ],
   "source": [
    "npimg = img.numpy()\n",
    "print(npimg.shape)"
   ]
  },
  {
   "cell_type": "code",
   "execution_count": 8,
   "metadata": {
    "colab": {
     "base_uri": "https://localhost:8080/",
     "height": 34
    },
    "colab_type": "code",
    "id": "T7MfJdNAQKmy",
    "outputId": "9a221ce8-7660-4f80-a6bc-2e21ecfe227f"
   },
   "outputs": [
    {
     "name": "stdout",
     "output_type": "stream",
     "text": [
      "(32, 32, 3)\n"
     ]
    }
   ],
   "source": [
    "#image = height * width * channels\n",
    "npimg = np.transpose(npimg, (1, 2, 0))\n",
    "print(npimg.shape)"
   ]
  },
  {
   "cell_type": "code",
   "execution_count": 9,
   "metadata": {
    "colab": {
     "base_uri": "https://localhost:8080/",
     "height": 106
    },
    "colab_type": "code",
    "id": "Xjh0IJNIQS4G",
    "outputId": "ee1892c7-37dd-4107-de1d-8cc0981e1f48"
   },
   "outputs": [
    {
     "data": {
      "image/png": "[encoded data removed]",
      "text/plain": [
       "<Figure size 72x72 with 1 Axes>"
      ]
     },
     "metadata": {
      "needs_background": "light"
     },
     "output_type": "display_data"
    }
   ],
   "source": [
    "plt.figure(figsize = (1,1))\n",
    "plt.imshow(npimg)\n",
    "plt.show()"
   ]
  },
  {
   "cell_type": "code",
   "execution_count": 10,
   "metadata": {
    "colab": {},
    "colab_type": "code",
    "id": "ItDj5P3xZrX3"
   },
   "outputs": [],
   "source": [
    "def imshow(img):\n",
    "    npimg = img.numpy()\n",
    "    plt.imshow(np.transpose(npimg, (1, 2, 0)))\n",
    "    plt.show()"
   ]
  },
  {
   "cell_type": "code",
   "execution_count": 11,
   "metadata": {
    "colab": {
     "base_uri": "https://localhost:8080/",
     "height": 157
    },
    "colab_type": "code",
    "id": "SUUH0-2PFMLQ",
    "outputId": "23e7c766-293e-4fe1-919b-5f80c8791e87"
   },
   "outputs": [
    {
     "data": {
      "image/png": "[encoded data removed]",
      "text/plain": [
       "<Figure size 432x288 with 1 Axes>"
      ]
     },
     "metadata": {
      "needs_background": "light"
     },
     "output_type": "display_data"
    },
    {
     "name": "stdout",
     "output_type": "stream",
     "text": [
      "dog horse frog dog\n"
     ]
    }
   ],
   "source": [
    "imshow(torchvision.utils.make_grid(images))\n",
    "print(' '.join(classes[labels[j]] for j in range(4)))"
   ]
  },
  {
   "cell_type": "markdown",
   "metadata": {
    "colab_type": "text",
    "id": "KIP5NFfgQfNo"
   },
   "source": [
    "## Single Convolutional Layer"
   ]
  },
  {
   "cell_type": "code",
   "execution_count": 12,
   "metadata": {
    "colab": {},
    "colab_type": "code",
    "id": "-J1FCUm6FlR6"
   },
   "outputs": [],
   "source": [
    "class FirstCNN(nn.Module):\n",
    "  \n",
    "  def __init__(self):\n",
    "    super(FirstCNN, self).__init__()\n",
    "    #single layer convolution\n",
    "    self.conv1 = nn.Conv2d(3, 16, 3, padding = (1,1), stride = (2, 2))\n",
    "    \n",
    "  def forward(self, x):\n",
    "    #execute forward pass\n",
    "    x = self.conv1(x)\n",
    "    return(x)"
   ]
  },
  {
   "cell_type": "code",
   "execution_count": 13,
   "metadata": {
    "colab": {},
    "colab_type": "code",
    "id": "Gj33mJuCg8w-"
   },
   "outputs": [],
   "source": [
    "#create a object of class\n",
    "net = FirstCNN()"
   ]
  },
  {
   "cell_type": "code",
   "execution_count": 14,
   "metadata": {
    "colab": {
     "base_uri": "https://localhost:8080/",
     "height": 70
    },
    "colab_type": "code",
    "id": "Y7A3DS7kMBpD",
    "outputId": "2ce3012a-8896-4fa0-9d2c-5fa68bf8756e"
   },
   "outputs": [
    {
     "name": "stdout",
     "output_type": "stream",
     "text": [
      "FirstCNN(\n",
      "  (conv1): Conv2d(3, 16, kernel_size=(3, 3), stride=(2, 2), padding=(1, 1))\n",
      ")\n"
     ]
    }
   ],
   "source": [
    "#print summary of network\n",
    "print(net)"
   ]
  },
  {
   "cell_type": "code",
   "execution_count": 15,
   "metadata": {
    "colab": {
     "base_uri": "https://localhost:8080/",
     "height": 34
    },
    "colab_type": "code",
    "id": "KhxO4p0RKldv",
    "outputId": "994bb32a-555c-4ddf-a777-fc3ca2c9379c"
   },
   "outputs": [
    {
     "data": {
      "text/plain": [
       "torch.Size([4, 3, 32, 32])"
      ]
     },
     "execution_count": 15,
     "metadata": {},
     "output_type": "execute_result"
    }
   ],
   "source": [
    "#input shape\n",
    "images.shape"
   ]
  },
  {
   "cell_type": "code",
   "execution_count": 16,
   "metadata": {
    "colab": {
     "base_uri": "https://localhost:8080/",
     "height": 34
    },
    "colab_type": "code",
    "id": "BnAWY2-qg9jR",
    "outputId": "762032a0-e9c8-4e42-de82-2205f2e09841"
   },
   "outputs": [
    {
     "data": {
      "text/plain": [
       "torch.Size([4, 16, 16, 16])"
      ]
     },
     "execution_count": 16,
     "metadata": {},
     "output_type": "execute_result"
    }
   ],
   "source": [
    "#output from the convolution\n",
    "out = net(images)\n",
    "out.shape"
   ]
  },
  {
   "cell_type": "code",
   "execution_count": 17,
   "metadata": {
    "colab": {
     "base_uri": "https://localhost:8080/",
     "height": 52
    },
    "colab_type": "code",
    "id": "ynP7midTjfIn",
    "outputId": "dd49de28-897c-446b-80b4-5ce8f2729cc2"
   },
   "outputs": [
    {
     "name": "stdout",
     "output_type": "stream",
     "text": [
      "torch.Size([16, 3, 3, 3]) Parameters\n",
      "torch.Size([16]) Parameters\n"
     ]
    }
   ],
   "source": [
    "#total parameters in a network\n",
    "for param in net.parameters():\n",
    "    print(param.shape, \"Parameters\")"
   ]
  },
  {
   "cell_type": "code",
   "execution_count": 18,
   "metadata": {
    "colab": {
     "base_uri": "https://localhost:8080/",
     "height": 34
    },
    "colab_type": "code",
    "id": "aBYgoxzEia-D",
    "outputId": "6f5838cb-0d28-4e42-80cf-e084d38b79b4"
   },
   "outputs": [
    {
     "name": "stdout",
     "output_type": "stream",
     "text": [
      "(16, 16)\n"
     ]
    }
   ],
   "source": [
    "out1 = out[0, 0, :, :].detach().numpy()\n",
    "print(out1.shape)"
   ]
  },
  {
   "cell_type": "code",
   "execution_count": 19,
   "metadata": {
    "colab": {
     "base_uri": "https://localhost:8080/",
     "height": 286
    },
    "colab_type": "code",
    "id": "FG8Mqfw5i7hP",
    "outputId": "bfd9831d-3c72-4dd2-8cb4-ba7f715dacf8"
   },
   "outputs": [
    {
     "data": {
      "image/png": "[encoded data removed]",
      "text/plain": [
       "<Figure size 432x288 with 1 Axes>"
      ]
     },
     "metadata": {
      "needs_background": "light"
     },
     "output_type": "display_data"
    },
    {
     "data": {
      "text/plain": [
       "<Figure size 20000x20000 with 0 Axes>"
      ]
     },
     "metadata": {},
     "output_type": "display_data"
    }
   ],
   "source": [
    "plt.imshow(out[0, 0, :, :].detach().numpy())\n",
    "plt.figure(figsize = (10,10), dpi = 2000)\n",
    "plt.show()\n"
   ]
  },
  {
   "cell_type": "code",
   "execution_count": 20,
   "metadata": {
    "colab": {
     "base_uri": "https://localhost:8080/",
     "height": 286
    },
    "colab_type": "code",
    "id": "NGNSccAdMIYE",
    "outputId": "3074e1e4-f8cd-4392-e9b5-a59ea264f3c0"
   },
   "outputs": [
    {
     "data": {
      "image/png": "[encoded data removed]",
      "text/plain": [
       "<Figure size 432x288 with 1 Axes>"
      ]
     },
     "metadata": {
      "needs_background": "light"
     },
     "output_type": "display_data"
    },
    {
     "data": {
      "text/plain": [
       "<Figure size 720x720 with 0 Axes>"
      ]
     },
     "metadata": {},
     "output_type": "display_data"
    }
   ],
   "source": [
    "plt.imshow(out[0, 1, :, :].detach().numpy())\n",
    "plt.figure(figsize = (10,10))\n",
    "plt.show()"
   ]
  },
  {
   "cell_type": "markdown",
   "metadata": {
    "colab_type": "text",
    "id": "Y6nSsRqRQ3sJ"
   },
   "source": [
    "## Deep Convolutional Network"
   ]
  },
  {
   "cell_type": "code",
   "execution_count": 21,
   "metadata": {
    "colab": {},
    "colab_type": "code",
    "id": "5GnYimnTmFyi"
   },
   "outputs": [],
   "source": [
    "class FirstDeepCNN(nn.Module):\n",
    "    def __init__(self): \n",
    "        super(FirstDeepCNN, self).__init__()\n",
    "        self.model = nn.Sequential(\n",
    "            nn.Conv2d(3, 6, 5),          \n",
    "            nn.AvgPool2d(kernel_size = 2, stride=2), \n",
    "            nn.Conv2d(6, 16, 5),        \n",
    "            nn.AvgPool2d(2, stride=2)   \n",
    "        )\n",
    "        \n",
    "    def forward(self, x):\n",
    "        x = self.model(x)\n",
    "        return x"
   ]
  },
  {
   "cell_type": "code",
   "execution_count": 22,
   "metadata": {
    "colab": {
     "base_uri": "https://localhost:8080/",
     "height": 34
    },
    "colab_type": "code",
    "id": "ldq1anrdmwox",
    "outputId": "bd4a0220-2a13-46c9-c537-80da0088097d"
   },
   "outputs": [
    {
     "data": {
      "text/plain": [
       "torch.Size([4, 16, 5, 5])"
      ]
     },
     "execution_count": 22,
     "metadata": {},
     "output_type": "execute_result"
    }
   ],
   "source": [
    "net = FirstDeepCNN()\n",
    "out = net(images)\n",
    "out.shape"
   ]
  },
  {
   "cell_type": "code",
   "execution_count": 23,
   "metadata": {
    "colab": {
     "base_uri": "https://localhost:8080/",
     "height": 269
    },
    "colab_type": "code",
    "id": "tOnUd7TyVunB",
    "outputId": "e3e4b833-b543-4074-8888-418c9bb14abb"
   },
   "outputs": [
    {
     "data": {
      "image/png": "[encoded data removed]",
      "text/plain": [
       "<Figure size 432x288 with 1 Axes>"
      ]
     },
     "metadata": {
      "needs_background": "light"
     },
     "output_type": "display_data"
    }
   ],
   "source": [
    "plt.imshow(out[0, 0, :, :].detach().numpy())\n",
    "plt.show()"
   ]
  },
  {
   "cell_type": "code",
   "execution_count": 24,
   "metadata": {
    "colab": {
     "base_uri": "https://localhost:8080/",
     "height": 269
    },
    "colab_type": "code",
    "id": "sAEGAfpdO8zd",
    "outputId": "137286d8-dade-470f-f354-384d39adef5e"
   },
   "outputs": [
    {
     "data": {
      "image/png": "[encoded data removed]",
      "text/plain": [
       "<Figure size 432x288 with 1 Axes>"
      ]
     },
     "metadata": {
      "needs_background": "light"
     },
     "output_type": "display_data"
    }
   ],
   "source": [
    "plt.imshow(out[0, 1, :, :].detach().numpy())\n",
    "plt.show()"
   ]
  },
  {
   "cell_type": "markdown",
   "metadata": {
    "colab_type": "text",
    "id": "vymNQCrDQ7dM"
   },
   "source": [
    "## LeNet\n"
   ]
  },
  {
   "cell_type": "code",
   "execution_count": 25,
   "metadata": {
    "colab": {},
    "colab_type": "code",
    "id": "k4rIj1LtPFWg"
   },
   "outputs": [],
   "source": [
    "class LeNet(nn.Module):\n",
    "  def __init__(self):\n",
    "    super(LeNet, self).__init__()\n",
    "    self.cnn_model = nn.Sequential(\n",
    "        nn.Conv2d(3, 6, kernel_size = 5), \n",
    "        nn.Tanh(),\n",
    "        nn.AvgPool2d(2, stride = 2), \n",
    "        nn.Conv2d(6, 16, kernel_size = 5), \n",
    "        nn.Tanh(),\n",
    "        nn.AvgPool2d(2, stride = 2) \n",
    "    )\n",
    "    \n",
    "    self.fc_model = nn.Sequential(\n",
    "        nn.Linear(400, 120), \n",
    "        nn.Tanh(),\n",
    "        nn.Linear(120, 84), \n",
    "        nn.Tanh(),\n",
    "        nn.Linear(84, 10) \n",
    "    )\n",
    "    \n",
    "  def forward(self, x):\n",
    "      print(x.shape)\n",
    "      x = self.cnn_model(x)\n",
    "      print(x.shape)\n",
    "      print(x)\n",
    "      x = x.view(x.size(0), -1)\n",
    "      print(x.shape)\n",
    "      x = self.fc_model(x)\n",
    "      print(x.shape)\n",
    "      return x"
   ]
  },
  {
   "cell_type": "code",
   "execution_count": 26,
   "metadata": {
    "colab": {
     "base_uri": "https://localhost:8080/",
     "height": 87
    },
    "colab_type": "code",
    "id": "hruUII0sRIO4",
    "outputId": "8ca8c832-099a-409f-ee7f-ff1275274a6f"
   },
   "outputs": [
    {
     "name": "stdout",
     "output_type": "stream",
     "text": [
      "torch.Size([4, 3, 32, 32])\n",
      "torch.Size([4, 16, 5, 5])\n",
      "tensor([[[[-3.2798e-01, -3.4134e-01, -3.4228e-01, -3.2426e-01, -3.3492e-01],\n",
      "          [-3.2072e-01, -3.4044e-01, -3.3849e-01, -3.3855e-01, -2.9630e-01],\n",
      "          [-2.7815e-01, -3.3031e-01, -3.9747e-01, -3.7458e-01, -2.3280e-01],\n",
      "          [-2.9066e-01, -3.8698e-01, -3.8033e-01, -4.4147e-01, -2.4260e-01],\n",
      "          [-3.1443e-01, -4.4367e-01, -3.7101e-01, -4.0990e-01, -2.7474e-01]],\n",
      "\n",
      "         [[-9.4017e-03,  1.9167e-03, -1.1432e-02, -4.8809e-04,  6.8766e-03],\n",
      "          [-1.3681e-03, -2.3724e-03, -6.7315e-03, -2.8127e-02,  1.4658e-02],\n",
      "          [-9.4224e-03, -4.8998e-03, -1.2207e-02, -6.3902e-02,  3.1066e-03],\n",
      "          [-2.6791e-02, -7.8768e-04, -2.1211e-02, -3.4196e-02, -3.9244e-02],\n",
      "          [ 9.0283e-03, -3.3049e-02, -2.0390e-02, -7.6026e-03, -7.6783e-02]],\n",
      "\n",
      "         [[ 1.4807e-01,  1.4032e-01,  1.3847e-01,  1.4227e-01,  1.3497e-01],\n",
      "          [ 1.2915e-01,  1.0352e-01,  1.5022e-01,  1.4588e-01,  1.6663e-01],\n",
      "          [ 1.0905e-01,  1.0619e-01,  1.4371e-01,  1.6710e-01,  2.1252e-01],\n",
      "          [ 1.2912e-01,  1.0791e-01,  1.2897e-01,  2.1082e-01,  2.3618e-01],\n",
      "          [ 8.7228e-02,  9.1863e-02,  1.7934e-01,  1.5964e-01,  2.2769e-01]],\n",
      "\n",
      "         ...,\n",
      "\n",
      "         [[-1.1219e-01, -9.3082e-02, -9.7665e-02, -1.1095e-01, -9.9235e-02],\n",
      "          [-1.0317e-01, -9.6525e-02, -1.0294e-01, -7.8496e-02, -1.1219e-01],\n",
      "          [-1.0663e-01, -9.7579e-02, -1.2592e-01, -1.3398e-01, -8.1631e-02],\n",
      "          [-1.0564e-01, -1.0853e-01, -1.2035e-01, -1.6523e-01, -1.3197e-01],\n",
      "          [-8.4763e-02, -1.3588e-01, -1.2540e-01, -1.6237e-01, -1.9441e-01]],\n",
      "\n",
      "         [[-1.8342e-01, -1.9213e-01, -1.9505e-01, -1.8563e-01, -1.8752e-01],\n",
      "          [-1.7088e-01, -1.9219e-01, -1.9684e-01, -1.8932e-01, -1.8802e-01],\n",
      "          [-1.5708e-01, -2.1085e-01, -1.8966e-01, -2.1892e-01, -2.0441e-01],\n",
      "          [-1.7107e-01, -1.9822e-01, -2.2670e-01, -2.2464e-01, -1.6400e-01],\n",
      "          [-1.6896e-01, -1.7993e-01, -2.3005e-01, -1.7373e-01, -1.6478e-01]],\n",
      "\n",
      "         [[ 1.7325e-01,  1.7736e-01,  1.6850e-01,  1.7139e-01,  1.7018e-01],\n",
      "          [ 1.8289e-01,  1.8388e-01,  1.8229e-01,  1.7111e-01,  1.8736e-01],\n",
      "          [ 1.4810e-01,  1.8276e-01,  2.0942e-01,  1.6352e-01,  1.7017e-01],\n",
      "          [ 1.7091e-01,  1.6791e-01,  2.2477e-01,  1.7744e-01,  1.5304e-01],\n",
      "          [ 1.7165e-01,  2.0058e-01,  2.0659e-01,  1.7514e-01,  1.3892e-01]]],\n",
      "\n",
      "\n",
      "        [[[-9.9355e-02, -1.5974e-01, -2.6783e-01, -3.0146e-01, -1.7132e-01],\n",
      "          [-2.5009e-01, -3.2361e-01, -3.1105e-01, -1.9749e-01, -8.6969e-02],\n",
      "          [-2.2394e-01, -2.8940e-01, -2.2581e-01, -1.4333e-01, -4.1067e-02],\n",
      "          [-2.1013e-01, -1.9093e-01, -1.8043e-01, -1.1287e-01, -7.2897e-02],\n",
      "          [-2.7447e-01, -2.4925e-01, -2.4344e-01, -1.9875e-01, -1.6949e-01]],\n",
      "\n",
      "         [[ 7.9046e-03,  7.5265e-03,  2.8936e-02,  6.4018e-03,  4.1061e-03],\n",
      "          [ 7.1156e-03,  1.1097e-02,  4.0989e-02, -3.1653e-03, -3.7191e-02],\n",
      "          [-4.2673e-02,  5.2949e-02, -1.7597e-02, -5.4052e-02, -3.6415e-02],\n",
      "          [-3.4279e-02,  2.6415e-02, -2.0801e-02, -3.0440e-02, -3.7340e-02],\n",
      "          [-3.3518e-02, -1.4526e-02, -4.3014e-02, -4.5266e-02, -3.7706e-02]],\n",
      "\n",
      "         [[ 1.3708e-01,  2.4130e-02,  4.8732e-02,  1.5327e-01,  1.2268e-01],\n",
      "          [ 1.0676e-01,  1.0744e-01,  1.1120e-01,  1.5220e-01,  1.4365e-01],\n",
      "          [ 1.5740e-01,  1.0077e-01,  1.1693e-01,  1.6923e-01,  1.2132e-01],\n",
      "          [ 1.4944e-01,  1.1118e-01,  1.0555e-01,  1.3249e-01,  1.2056e-01],\n",
      "          [ 1.6319e-01,  1.6050e-01,  1.0579e-01,  1.4001e-01,  1.2891e-01]],\n",
      "\n",
      "         ...,\n",
      "\n",
      "         [[-4.2391e-02, -5.3307e-02, -5.5510e-02, -6.5658e-02, -6.3702e-02],\n",
      "          [-5.9344e-02, -7.9142e-02, -1.5302e-02, -1.0311e-01, -4.3893e-02],\n",
      "          [-5.9180e-02, -2.2146e-02, -7.3509e-02, -5.9294e-02, -3.9498e-02],\n",
      "          [-5.8824e-02, -1.3308e-02, -4.5531e-02, -4.2779e-02, -1.4358e-02],\n",
      "          [-9.5750e-02, -5.8123e-02, -7.1223e-02, -6.7852e-02, -5.2360e-02]],\n",
      "\n",
      "         [[-1.4957e-01, -1.2930e-01, -1.4195e-01, -1.5052e-01, -1.0915e-01],\n",
      "          [-1.5056e-01, -1.7161e-01, -1.5438e-01, -1.2482e-01, -7.7691e-02],\n",
      "          [-1.7069e-01, -1.4633e-01, -1.5055e-01, -8.3459e-02, -7.5513e-02],\n",
      "          [-1.8091e-01, -1.2786e-01, -1.1726e-01, -9.8906e-02, -5.7889e-02],\n",
      "          [-1.7613e-01, -1.4441e-01, -1.4506e-01, -1.3827e-01, -1.1593e-01]],\n",
      "\n",
      "         [[ 1.3962e-01,  8.2196e-02,  1.7136e-01,  1.3996e-01,  1.2747e-01],\n",
      "          [ 1.3984e-01,  1.3500e-01,  1.5857e-01,  1.2941e-01,  7.5474e-02],\n",
      "          [ 1.7681e-01,  1.2750e-01,  1.9072e-01,  1.0224e-01,  4.9372e-02],\n",
      "          [ 1.3698e-01,  1.2854e-01,  1.3300e-01,  9.6839e-02,  5.7616e-02],\n",
      "          [ 1.2256e-01,  1.0439e-01,  1.1577e-01,  8.8701e-02,  6.9424e-02]]],\n",
      "\n",
      "\n",
      "        [[[-3.6434e-01, -3.4188e-01, -3.5195e-01, -3.6162e-01, -3.2740e-01],\n",
      "          [-3.5536e-01, -3.5831e-01, -3.2592e-01, -3.6345e-01, -4.3056e-01],\n",
      "          [-3.5430e-01, -3.0374e-01, -3.1730e-01, -3.5864e-01, -4.4704e-01],\n",
      "          [-3.6491e-01, -3.4139e-01, -3.0501e-01, -3.3257e-01, -4.6782e-01],\n",
      "          [-3.5029e-01, -4.2089e-01, -4.3920e-01, -4.3799e-01, -4.3518e-01]],\n",
      "\n",
      "         [[-7.5103e-03, -8.9902e-03,  2.0326e-03, -1.5402e-02, -2.7219e-02],\n",
      "          [ 3.4817e-03, -9.4863e-03,  9.1859e-03,  1.3895e-03, -2.3923e-02],\n",
      "          [-3.9166e-03, -8.6681e-03,  9.6930e-04,  1.5593e-02,  1.2648e-02],\n",
      "          [-9.6022e-03, -3.6444e-02,  7.3723e-03,  1.1643e-02,  1.4655e-02],\n",
      "          [ 2.9434e-02, -6.3194e-03, -4.0404e-02, -6.5111e-03,  3.0934e-02]],\n",
      "\n",
      "         [[ 1.2734e-01,  1.4139e-01,  1.4192e-01,  1.1830e-01,  1.5195e-01],\n",
      "          [ 1.2611e-01,  1.4167e-01,  1.4541e-01,  1.2998e-01,  1.2204e-01],\n",
      "          [ 1.2972e-01,  1.4802e-01,  1.5099e-01,  7.5871e-02,  8.7450e-02],\n",
      "          [ 9.7510e-02,  1.5128e-01,  1.6233e-01,  1.3338e-01,  9.2782e-02],\n",
      "          [ 1.0819e-01,  9.7703e-02,  1.5592e-01,  1.6180e-01,  1.3507e-01]],\n",
      "\n",
      "         ...,\n",
      "\n",
      "         [[-1.0304e-01, -1.1224e-01, -1.0961e-01, -1.2723e-01, -1.3100e-01],\n",
      "          [-9.9262e-02, -1.0206e-01, -1.1641e-01, -1.3026e-01, -1.4514e-01],\n",
      "          [-1.0240e-01, -1.0478e-01, -9.6375e-02, -9.2048e-02, -1.4748e-01],\n",
      "          [-1.2423e-01, -1.1127e-01, -9.6138e-02, -8.7324e-02, -8.9832e-02],\n",
      "          [-9.3986e-02, -1.2573e-01, -1.4240e-01, -1.1140e-01, -1.2299e-01]],\n",
      "\n",
      "         [[-1.6881e-01, -1.8694e-01, -1.8057e-01, -1.7143e-01, -1.8534e-01],\n",
      "          [-1.8202e-01, -1.8051e-01, -1.7452e-01, -1.8426e-01, -1.9854e-01],\n",
      "          [-1.8183e-01, -1.9050e-01, -1.8107e-01, -1.7778e-01, -2.0779e-01],\n",
      "          [-1.7244e-01, -2.0679e-01, -2.1006e-01, -2.2672e-01, -2.1924e-01],\n",
      "          [-2.0714e-01, -2.0222e-01, -2.2151e-01, -2.5194e-01, -2.7157e-01]],\n",
      "\n",
      "         [[ 1.7105e-01,  1.8411e-01,  1.7211e-01,  1.7513e-01,  1.5718e-01],\n",
      "          [ 1.7890e-01,  1.8350e-01,  1.5441e-01,  1.8175e-01,  1.8193e-01],\n",
      "          [ 1.7210e-01,  1.7425e-01,  1.7607e-01,  1.8095e-01,  2.0798e-01],\n",
      "          [ 2.0099e-01,  1.8485e-01,  1.4302e-01,  1.8586e-01,  2.2771e-01],\n",
      "          [ 1.6761e-01,  2.0869e-01,  2.2556e-01,  2.0761e-01,  2.1017e-01]]],\n",
      "\n",
      "\n",
      "        [[[-6.9501e-02, -1.8272e-01, -2.0343e-01, -2.4320e-01, -2.2768e-01],\n",
      "          [-8.5694e-02, -2.9640e-01, -3.9063e-01, -2.8144e-01, -2.7273e-01],\n",
      "          [-1.5859e-01, -3.5467e-01, -5.1005e-01, -4.2524e-01, -4.5407e-01],\n",
      "          [-2.3840e-01, -3.5944e-01, -4.4093e-01, -4.7057e-01, -5.1442e-01],\n",
      "          [-1.8197e-01, -2.8334e-01, -3.1300e-01, -3.5781e-01, -4.0806e-01]],\n",
      "\n",
      "         [[-6.5760e-04, -3.1168e-02, -4.6489e-02, -2.5621e-02, -2.7584e-02],\n",
      "          [-1.7036e-02, -1.8821e-02, -3.4460e-02, -4.2316e-02, -2.2295e-02],\n",
      "          [-9.0106e-03,  3.5115e-02,  5.8546e-03, -9.6489e-02, -3.6444e-02],\n",
      "          [ 4.3055e-03,  3.3574e-02,  2.1514e-02, -2.8397e-02, -1.7093e-02],\n",
      "          [ 7.7390e-03,  1.4679e-02,  4.1908e-02, -1.1324e-03,  2.3481e-02]],\n",
      "\n",
      "         [[ 6.7424e-02, -4.5010e-04,  1.1178e-01,  1.4319e-01,  1.1846e-01],\n",
      "          [ 8.7119e-02, -2.3487e-02,  1.3473e-01,  1.6454e-01,  1.9646e-01],\n",
      "          [ 5.6693e-02, -1.2056e-02,  6.4021e-02,  1.8066e-01,  2.1058e-01],\n",
      "          [ 8.1520e-02,  3.2746e-02,  8.3728e-02,  1.3443e-01,  1.6970e-01],\n",
      "          [ 6.9586e-02,  6.3962e-02,  1.2014e-01,  7.4097e-02,  1.1227e-01]],\n",
      "\n",
      "         ...,\n",
      "\n",
      "         [[-4.7203e-02, -1.0249e-01, -8.4569e-02, -8.7821e-02, -1.1515e-01],\n",
      "          [-2.6853e-02, -5.8964e-02, -1.2249e-01, -1.1928e-01, -1.5376e-01],\n",
      "          [-6.2261e-02, -3.6875e-02, -1.5978e-01, -1.9557e-01, -1.6330e-01],\n",
      "          [-4.0344e-02, -5.3384e-02, -1.1418e-01, -1.7672e-01, -1.5770e-01],\n",
      "          [-6.7528e-02, -3.5603e-02, -6.9921e-02, -1.0539e-01, -1.1746e-01]],\n",
      "\n",
      "         [[-6.7573e-02, -7.5108e-02, -1.2645e-01, -1.0271e-01, -1.0789e-01],\n",
      "          [-6.9033e-02, -1.2004e-01, -1.7135e-01, -1.9395e-01, -1.5779e-01],\n",
      "          [-1.4797e-01, -1.7783e-01, -2.0362e-01, -2.4056e-01, -1.9381e-01],\n",
      "          [-1.2365e-01, -1.6193e-01, -2.0255e-01, -2.4061e-01, -2.0916e-01],\n",
      "          [-1.1632e-01, -1.5721e-01, -1.8029e-01, -1.7248e-01, -1.8346e-01]],\n",
      "\n",
      "         [[ 7.0178e-02,  9.5179e-02,  9.6993e-02,  1.3432e-01,  7.8975e-02],\n",
      "          [ 8.9585e-02,  1.2833e-01,  1.7710e-01,  1.4561e-01,  4.4687e-02],\n",
      "          [ 1.1362e-01,  1.8028e-01,  2.3599e-01,  2.3104e-01,  1.1522e-01],\n",
      "          [ 1.5070e-01,  1.9726e-01,  2.4587e-01,  2.3205e-01,  2.1127e-01],\n",
      "          [ 1.3400e-01,  1.7453e-01,  2.2895e-01,  2.2243e-01,  2.1127e-01]]]],\n",
      "       grad_fn=<AvgPool2DBackward0>)\n",
      "torch.Size([4, 400])\n",
      "torch.Size([4, 10])\n"
     ]
    }
   ],
   "source": [
    "net = LeNet()\n",
    "#running the lenet cnn\n",
    "out = net(images)"
   ]
  },
  {
   "cell_type": "code",
   "execution_count": 27,
   "metadata": {
    "colab": {
     "base_uri": "https://localhost:8080/",
     "height": 158
    },
    "colab_type": "code",
    "id": "2E66qlEzRapT",
    "outputId": "2dc9c573-18ab-47de-e786-a73405070423"
   },
   "outputs": [
    {
     "name": "stdout",
     "output_type": "stream",
     "text": [
      "tensor([[-0.0617, -0.1104, -0.0873, -0.0026,  0.1109,  0.0660,  0.1142,  0.0307,\n",
      "         -0.1570,  0.0821],\n",
      "        [-0.0747, -0.1038, -0.1008,  0.0208,  0.0912,  0.0587,  0.1086,  0.0159,\n",
      "         -0.1497,  0.0781],\n",
      "        [-0.0647, -0.0844, -0.0752,  0.0237,  0.1101,  0.0718,  0.1089,  0.0271,\n",
      "         -0.1652,  0.0685],\n",
      "        [-0.0835, -0.0878, -0.0897,  0.0107,  0.1397,  0.0636,  0.1385,  0.0272,\n",
      "         -0.1675,  0.0783]], grad_fn=<AddmmBackward0>)\n"
     ]
    }
   ],
   "source": [
    "#printing the class probabilities for 4 different images\n",
    "print(out)"
   ]
  },
  {
   "cell_type": "code",
   "execution_count": 28,
   "metadata": {
    "colab": {
     "base_uri": "https://localhost:8080/",
     "height": 34
    },
    "colab_type": "code",
    "id": "ZiYvD0l7Rhma",
    "outputId": "a5b9cdc9-7a34-4db5-dc6f-7ab7dc899f0f"
   },
   "outputs": [
    {
     "name": "stdout",
     "output_type": "stream",
     "text": [
      "tensor([6, 6, 4, 4])\n"
     ]
    }
   ],
   "source": [
    "#taking only the maximum value \n",
    "max_values, pred_class = torch.max(out.data, 1)\n",
    "print(pred_class)"
   ]
  },
  {
   "cell_type": "code",
   "execution_count": 29,
   "metadata": {
    "colab": {},
    "colab_type": "code",
    "id": "ylTZodUuV1eb"
   },
   "outputs": [],
   "source": [
    "class LeNet(nn.Module):\n",
    "    def __init__(self): \n",
    "        super(LeNet, self).__init__()\n",
    "        self.cnn_model = nn.Sequential(\n",
    "            nn.Conv2d(3, 6, 5),         # (N, 3, 32, 32) -> (N,  6, 28, 28)\n",
    "            nn.Tanh(),\n",
    "            nn.AvgPool2d(2, stride=2),  # (N, 6, 28, 28) -> (N,  6, 14, 14)\n",
    "            nn.Conv2d(6, 16, 5),        # (N, 6, 14, 14) -> (N, 16, 10, 10)  \n",
    "            nn.Tanh(),\n",
    "            nn.AvgPool2d(2, stride=2)   # (N,16, 10, 10) -> (N, 16, 5, 5)\n",
    "        )\n",
    "        self.fc_model = nn.Sequential(\n",
    "            nn.Linear(400,120),         # (N, 400) -> (N, 120)\n",
    "            nn.Tanh(),\n",
    "            nn.Linear(120,84),          # (N, 120) -> (N, 84)\n",
    "            nn.Tanh(),\n",
    "            nn.Linear(84,10)            # (N, 84)  -> (N, 10)\n",
    "        )\n",
    "        \n",
    "    def forward(self, x):\n",
    "        x = self.cnn_model(x)\n",
    "        x = x.view(x.size(0), -1)\n",
    "        x = self.fc_model(x)\n",
    "        return x"
   ]
  },
  {
   "cell_type": "code",
   "execution_count": 30,
   "metadata": {
    "colab": {
     "base_uri": "https://localhost:8080/",
     "height": 52
    },
    "colab_type": "code",
    "id": "GOWc4kya8UDC",
    "outputId": "47b80284-0daf-4232-9796-49ebf1e2b0bc"
   },
   "outputs": [
    {
     "name": "stdout",
     "output_type": "stream",
     "text": [
      "Files already downloaded and verified\n",
      "Files already downloaded and verified\n"
     ]
    }
   ],
   "source": [
    "batch_size = 128\n",
    "trainset = torchvision.datasets.CIFAR10(root='./data', train=True, download=True, transform=transforms.ToTensor())\n",
    "trainloader = torch.utils.data.DataLoader(trainset, batch_size=batch_size, shuffle=True)\n",
    "testset = torchvision.datasets.CIFAR10(root='./data', train=False, download=True, transform=transforms.ToTensor())\n",
    "testloader = torch.utils.data.DataLoader(testset, batch_size=batch_size, shuffle=False)"
   ]
  },
  {
   "cell_type": "code",
   "execution_count": 31,
   "metadata": {
    "colab": {},
    "colab_type": "code",
    "id": "odvM-ziiSyH_"
   },
   "outputs": [],
   "source": [
    "def evaluation(dataloader):\n",
    "  #function to calculate the accuracy\n",
    "    total, correct = 0, 0\n",
    "    for data in dataloader:\n",
    "      inputs, labels = data\n",
    "      outputs = net(inputs)\n",
    "      _, pred = torch.max(outputs.data, 1)\n",
    "      total += labels.size(0)\n",
    "      correct += (pred == labels).sum().item()\n",
    "    return(100 * correct/total)"
   ]
  },
  {
   "cell_type": "code",
   "execution_count": 32,
   "metadata": {
    "colab": {},
    "colab_type": "code",
    "id": "3pYTvSvD2TwM"
   },
   "outputs": [],
   "source": [
    "#create an object of LeNet class, \n",
    "net = LeNet()"
   ]
  },
  {
   "cell_type": "code",
   "execution_count": 33,
   "metadata": {
    "colab": {},
    "colab_type": "code",
    "id": "2T6Wzz7J2xq3"
   },
   "outputs": [],
   "source": [
    "import torch.optim as optim\n",
    "\n",
    "#define the loss function \n",
    "loss_fn = nn.CrossEntropyLoss()\n",
    "#using the adam optimizer for backpropagation\n",
    "opt = optim.Adam(net.parameters())"
   ]
  },
  {
   "cell_type": "code",
   "execution_count": 34,
   "metadata": {
    "colab": {
     "base_uri": "https://localhost:8080/",
     "height": 462
    },
    "colab_type": "code",
    "id": "a0LnxsXi6Cgt",
    "outputId": "9eba8b9e-a820-42a9-edc4-bd87a4df566e"
   },
   "outputs": [
    {
     "name": "stdout",
     "output_type": "stream",
     "text": [
      "Epoch: 0/10, Test acc: 38.45, Train acc: 38.47\n",
      "Epoch: 1/10, Test acc: 43.28, Train acc: 43.40\n",
      "Epoch: 2/10, Test acc: 45.33, Train acc: 46.37\n",
      "Epoch: 3/10, Test acc: 49.72, Train acc: 51.20\n",
      "Epoch: 4/10, Test acc: 51.69, Train acc: 53.42\n",
      "Epoch: 5/10, Test acc: 52.89, Train acc: 55.77\n",
      "Epoch: 6/10, Test acc: 52.72, Train acc: 56.85\n",
      "Epoch: 7/10, Test acc: 54.59, Train acc: 59.13\n",
      "Epoch: 8/10, Test acc: 54.92, Train acc: 59.71\n",
      "Epoch: 9/10, Test acc: 55.62, Train acc: 61.45\n"
     ]
    },
    {
     "data": {
      "image/png": "[encoded data removed]",
      "text/plain": [
       "<Figure size 432x288 with 1 Axes>"
      ]
     },
     "metadata": {
      "needs_background": "light"
     },
     "output_type": "display_data"
    },
    {
     "name": "stdout",
     "output_type": "stream",
     "text": [
      "CPU times: total: 18min 11s\n",
      "Wall time: 3min 4s\n"
     ]
    }
   ],
   "source": [
    "%%time\n",
    "loss_arr = []\n",
    "loss_epoch_arr = []\n",
    "max_epochs = 10\n",
    "\n",
    "for epoch in range(max_epochs):\n",
    "\n",
    "    for i, data in enumerate(trainloader, 0):\n",
    "\n",
    "        inputs, labels = data\n",
    "        \n",
    "        #forward pass\n",
    "        outputs = net(inputs)\n",
    "        loss = loss_fn(outputs, labels)\n",
    "        \n",
    "        #backward and optimize\n",
    "        opt.zero_grad()\n",
    "        loss.backward()\n",
    "        opt.step()\n",
    "        \n",
    "        loss_arr.append(loss.item())\n",
    "        \n",
    "    loss_epoch_arr.append(loss.item())\n",
    "        \n",
    "    print('Epoch: %d/%d, Test acc: %0.2f, Train acc: %0.2f' % (epoch, max_epochs, evaluation(testloader), evaluation(trainloader)))\n",
    "    \n",
    "    \n",
    "plt.plot(loss_epoch_arr)\n",
    "plt.show()"
   ]
  },
  {
   "cell_type": "markdown",
   "metadata": {
    "colab_type": "text",
    "id": "ECHeB_BUTHl5"
   },
   "source": [
    "## Move to GPU"
   ]
  },
  {
   "cell_type": "code",
   "execution_count": 35,
   "metadata": {
    "colab": {
     "base_uri": "https://localhost:8080/",
     "height": 34
    },
    "colab_type": "code",
    "id": "Mj0-Y6zJTJ5z",
    "outputId": "0f495374-4118-486a-8b78-5112bd09dafa"
   },
   "outputs": [
    {
     "name": "stdout",
     "output_type": "stream",
     "text": [
      "cpu\n"
     ]
    }
   ],
   "source": [
    "device = torch.device(\"cuda:0\" if torch.cuda.is_available() else \"cpu\")\n",
    "print(device)"
   ]
  },
  {
   "cell_type": "code",
   "execution_count": 36,
   "metadata": {
    "colab": {},
    "colab_type": "code",
    "id": "n4fHbz2fTNpR"
   },
   "outputs": [],
   "source": [
    "def evaluation(dataloader):\n",
    "    total, correct = 0, 0\n",
    "    for data in dataloader:\n",
    "        inputs, labels = data\n",
    "        inputs, labels = inputs.to(device), labels.to(device)\n",
    "        outputs = net(inputs)\n",
    "        _, pred = torch.max(outputs.data, 1)\n",
    "        total += labels.size(0)\n",
    "        correct += (pred == labels).sum().item()\n",
    "    return 100 * correct / total"
   ]
  },
  {
   "cell_type": "code",
   "execution_count": 37,
   "metadata": {
    "colab": {},
    "colab_type": "code",
    "id": "mnxecsfVTQH-"
   },
   "outputs": [],
   "source": [
    "net = LeNet().to(device)\n",
    "loss_fn = nn.CrossEntropyLoss()\n",
    "opt = optim.Adam(net.parameters())"
   ]
  },
  {
   "cell_type": "code",
   "execution_count": 38,
   "metadata": {
    "colab": {
     "base_uri": "https://localhost:8080/",
     "height": 932
    },
    "colab_type": "code",
    "id": "i9t3Js-XTWkf",
    "outputId": "097c8883-e498-46ae-b2c1-51a56c9ed36f"
   },
   "outputs": [
    {
     "name": "stdout",
     "output_type": "stream",
     "text": [
      "Epoch: 0/100\n",
      "Epoch: 1/100\n",
      "Epoch: 2/100\n",
      "Epoch: 3/100\n",
      "Epoch: 4/100\n",
      "Epoch: 5/100\n",
      "Epoch: 6/100\n",
      "Epoch: 7/100\n",
      "Epoch: 8/100\n",
      "Epoch: 9/100\n",
      "Epoch: 10/100\n",
      "Epoch: 11/100\n",
      "Epoch: 12/100\n",
      "Epoch: 13/100\n",
      "Epoch: 14/100\n",
      "Epoch: 15/100\n",
      "Epoch: 16/100\n",
      "Epoch: 17/100\n",
      "Epoch: 18/100\n",
      "Epoch: 19/100\n",
      "Epoch: 20/100\n",
      "Epoch: 21/100\n",
      "Epoch: 22/100\n",
      "Epoch: 23/100\n",
      "Epoch: 24/100\n",
      "Epoch: 25/100\n",
      "Epoch: 26/100\n",
      "Epoch: 27/100\n",
      "Epoch: 28/100\n",
      "Epoch: 29/100\n",
      "Epoch: 30/100\n",
      "Epoch: 31/100\n",
      "Epoch: 32/100\n",
      "Epoch: 33/100\n",
      "Epoch: 34/100\n",
      "Epoch: 35/100\n",
      "Epoch: 36/100\n",
      "Epoch: 37/100\n",
      "Epoch: 38/100\n",
      "Epoch: 39/100\n",
      "Epoch: 40/100\n",
      "Epoch: 41/100\n",
      "Epoch: 42/100\n",
      "Epoch: 43/100\n",
      "Epoch: 44/100\n",
      "Epoch: 45/100\n",
      "Epoch: 46/100\n",
      "Epoch: 47/100\n",
      "Epoch: 48/100\n",
      "Epoch: 49/100\n",
      "Epoch: 50/100\n",
      "Epoch: 51/100\n",
      "Epoch: 52/100\n",
      "Epoch: 53/100\n",
      "Epoch: 54/100\n",
      "Epoch: 55/100\n",
      "Epoch: 56/100\n",
      "Epoch: 57/100\n",
      "Epoch: 58/100\n",
      "Epoch: 59/100\n",
      "Epoch: 60/100\n",
      "Epoch: 61/100\n",
      "Epoch: 62/100\n",
      "Epoch: 63/100\n",
      "Epoch: 64/100\n",
      "Epoch: 65/100\n",
      "Epoch: 66/100\n",
      "Epoch: 67/100\n",
      "Epoch: 68/100\n",
      "Epoch: 69/100\n",
      "Epoch: 70/100\n",
      "Epoch: 71/100\n",
      "Epoch: 72/100\n",
      "Epoch: 73/100\n",
      "Epoch: 74/100\n",
      "Epoch: 75/100\n",
      "Epoch: 76/100\n",
      "Epoch: 77/100\n",
      "Epoch: 78/100\n",
      "Epoch: 79/100\n",
      "Epoch: 80/100\n",
      "Epoch: 81/100\n",
      "Epoch: 82/100\n",
      "Epoch: 83/100\n",
      "Epoch: 84/100\n",
      "Epoch: 85/100\n",
      "Epoch: 86/100\n",
      "Epoch: 87/100\n",
      "Epoch: 88/100\n",
      "Epoch: 89/100\n",
      "Epoch: 90/100\n",
      "Epoch: 91/100\n",
      "Epoch: 92/100\n",
      "Epoch: 93/100\n",
      "Epoch: 94/100\n",
      "Epoch: 95/100\n",
      "Epoch: 96/100\n",
      "Epoch: 97/100\n",
      "Epoch: 98/100\n",
      "Epoch: 99/100\n",
      "CPU times: total: 1h 39min 57s\n",
      "Wall time: 16min 50s\n"
     ]
    }
   ],
   "source": [
    "%%time\n",
    "max_epochs = 100\n",
    "\n",
    "for epoch in range(max_epochs):\n",
    "\n",
    "    for i, data in enumerate(trainloader, 0):\n",
    "\n",
    "        inputs, labels = data\n",
    "        inputs, labels = inputs.to(device), labels.to(device)\n",
    "\n",
    "        opt.zero_grad()\n",
    "\n",
    "        outputs = net(inputs)\n",
    "        loss = loss_fn(outputs, labels)\n",
    "        loss.backward()\n",
    "        opt.step()\n",
    "        \n",
    "    print('Epoch: %d/%d' % (epoch, max_epochs))"
   ]
  },
  {
   "cell_type": "code",
   "execution_count": 39,
   "metadata": {
    "colab": {
     "base_uri": "https://localhost:8080/",
     "height": 34
    },
    "colab_type": "code",
    "id": "1mao_iiQZVlE",
    "outputId": "5f1fcde0-d94d-478d-c439-d4d66eec5874"
   },
   "outputs": [
    {
     "name": "stdout",
     "output_type": "stream",
     "text": [
      "Test acc: 51.79, Train acc: 95.64\n"
     ]
    }
   ],
   "source": [
    "print('Test acc: %0.2f, Train acc: %0.2f' % (evaluation(testloader), evaluation(trainloader)))"
   ]
  },
  {
   "cell_type": "markdown",
   "metadata": {
    "colab_type": "text",
    "id": "Fq5T-KsjTEUQ"
   },
   "source": [
    "## Basic Visualisation"
   ]
  },
  {
   "cell_type": "code",
   "execution_count": 40,
   "metadata": {
    "colab": {
     "base_uri": "https://localhost:8080/",
     "height": 139
    },
    "colab_type": "code",
    "id": "LWfeXhrzSFSc",
    "outputId": "09bdf0b5-233e-4811-83be-99336ac535c2"
   },
   "outputs": [
    {
     "data": {
      "image/png": "[encoded data removed]",
      "text/plain": [
       "<Figure size 432x288 with 1 Axes>"
      ]
     },
     "metadata": {
      "needs_background": "light"
     },
     "output_type": "display_data"
    }
   ],
   "source": [
    "imshow(torchvision.utils.make_grid(images))"
   ]
  },
  {
   "cell_type": "code",
   "execution_count": 41,
   "metadata": {
    "colab": {},
    "colab_type": "code",
    "id": "DiorUKc-LnWx"
   },
   "outputs": [],
   "source": [
    "net = net.to('cpu')"
   ]
  },
  {
   "cell_type": "code",
   "execution_count": 42,
   "metadata": {
    "colab": {
     "base_uri": "https://localhost:8080/",
     "height": 34
    },
    "colab_type": "code",
    "id": "luNsBRCAKQC_",
    "outputId": "9a8102d1-8002-45df-c2d4-3937409172d1"
   },
   "outputs": [
    {
     "name": "stdout",
     "output_type": "stream",
     "text": [
      "torch.Size([4, 10])\n"
     ]
    }
   ],
   "source": [
    "out = net(images)\n",
    "print(out.shape)"
   ]
  },
  {
   "cell_type": "code",
   "execution_count": 43,
   "metadata": {
    "colab": {
     "base_uri": "https://localhost:8080/",
     "height": 34
    },
    "colab_type": "code",
    "id": "-38nfaIUKSeF",
    "outputId": "0e2380e1-f0a3-442b-a05d-e505383f6774"
   },
   "outputs": [
    {
     "data": {
      "text/plain": [
       "torch.Size([4, 6, 28, 28])"
      ]
     },
     "execution_count": 43,
     "metadata": {},
     "output_type": "execute_result"
    }
   ],
   "source": [
    "out = net.cnn_model[0](images)\n",
    "out.shape"
   ]
  },
  {
   "cell_type": "code",
   "execution_count": 44,
   "metadata": {
    "colab": {
     "base_uri": "https://localhost:8080/",
     "height": 160
    },
    "colab_type": "code",
    "id": "Gqj4_qG1KYcO",
    "outputId": "2cc9274d-f78c-4f55-cce8-6fdf5f8e0a28"
   },
   "outputs": [
    {
     "data": {
      "image/png": "[encoded data removed]",
      "text/plain": [
       "<Figure size 144x144 with 1 Axes>"
      ]
     },
     "metadata": {
      "needs_background": "light"
     },
     "output_type": "display_data"
    }
   ],
   "source": [
    "image_id = 3\n",
    "plt.figure(figsize = (2,2))\n",
    "imshow(images[image_id,])"
   ]
  },
  {
   "cell_type": "code",
   "execution_count": 45,
   "metadata": {
    "colab": {
     "base_uri": "https://localhost:8080/",
     "height": 450
    },
    "colab_type": "code",
    "id": "19iXHHLitP2D",
    "outputId": "cd79a976-537a-407e-c9b0-ee87397ae91c"
   },
   "outputs": [
    {
     "data": {
      "image/png": "[encoded data removed]",
      "text/plain": [
       "<Figure size 432x432 with 6 Axes>"
      ]
     },
     "metadata": {
      "needs_background": "light"
     },
     "output_type": "display_data"
    }
   ],
   "source": [
    "plt.figure(figsize = (6,6))\n",
    "plt.subplot(321)\n",
    "for i in range(6):\n",
    "    ax1 = plt.subplot(3, 2, i+1)\n",
    "    plt.imshow(out[image_id, i, :, :].detach().numpy(), cmap=\"binary\")\n",
    "plt.show()"
   ]
  }
 ],
 "metadata": {
  "accelerator": "GPU",
  "colab": {
   "collapsed_sections": [],
   "name": "PyTorchCNN.ipynb",
   "provenance": [],
   "version": "0.3.2"
  },
  "kernelspec": {
   "display_name": "Python 3 (ipykernel)",
   "language": "python",
   "name": "python3"
  },
  "language_info": {
   "codemirror_mode": {
    "name": "ipython",
    "version": 3
   },
   "file_extension": ".py",
   "mimetype": "text/x-python",
   "name": "python",
   "nbconvert_exporter": "python",
   "pygments_lexer": "ipython3",
   "version": "3.10.6"
  }
 },
 "nbformat": 4,
 "nbformat_minor": 1
}
